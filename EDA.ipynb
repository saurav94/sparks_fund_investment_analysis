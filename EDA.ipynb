{
 "cells": [
  {
   "cell_type": "code",
   "execution_count": 1,
   "metadata": {},
   "outputs": [],
   "source": [
    "#Load the necessary Libraries\n",
    "import pandas as pd\n",
    "import numpy as np\n",
    "import matplotlib.pyplot as plt\n",
    "import seaborn as sns \n",
    "%matplotlib inline"
   ]
  },
  {
   "cell_type": "code",
   "execution_count": 2,
   "metadata": {},
   "outputs": [],
   "source": [
    "# Set the display format to 2 decimal places\n",
    "pd.set_option('display.float_format', lambda x: '%.2f' % x)"
   ]
  },
  {
   "cell_type": "markdown",
   "metadata": {},
   "source": [
    "# Data Cleaning"
   ]
  },
  {
   "cell_type": "code",
   "execution_count": 3,
   "metadata": {},
   "outputs": [
    {
     "data": {
      "text/html": [
       "<div>\n",
       "<style scoped>\n",
       "    .dataframe tbody tr th:only-of-type {\n",
       "        vertical-align: middle;\n",
       "    }\n",
       "\n",
       "    .dataframe tbody tr th {\n",
       "        vertical-align: top;\n",
       "    }\n",
       "\n",
       "    .dataframe thead th {\n",
       "        text-align: right;\n",
       "    }\n",
       "</style>\n",
       "<table border=\"1\" class=\"dataframe\">\n",
       "  <thead>\n",
       "    <tr style=\"text-align: right;\">\n",
       "      <th></th>\n",
       "      <th>permalink</th>\n",
       "      <th>name</th>\n",
       "      <th>homepage_url</th>\n",
       "      <th>category_list</th>\n",
       "      <th>status</th>\n",
       "      <th>country_code</th>\n",
       "      <th>state_code</th>\n",
       "      <th>region</th>\n",
       "      <th>city</th>\n",
       "      <th>founded_at</th>\n",
       "    </tr>\n",
       "  </thead>\n",
       "  <tbody>\n",
       "    <tr>\n",
       "      <th>0</th>\n",
       "      <td>/Organization/-Fame</td>\n",
       "      <td>#fame</td>\n",
       "      <td>http://livfame.com</td>\n",
       "      <td>Media</td>\n",
       "      <td>operating</td>\n",
       "      <td>IND</td>\n",
       "      <td>16</td>\n",
       "      <td>Mumbai</td>\n",
       "      <td>Mumbai</td>\n",
       "      <td>NaN</td>\n",
       "    </tr>\n",
       "    <tr>\n",
       "      <th>1</th>\n",
       "      <td>/Organization/-Qounter</td>\n",
       "      <td>:Qounter</td>\n",
       "      <td>http://www.qounter.com</td>\n",
       "      <td>Application Platforms|Real Time|Social Network...</td>\n",
       "      <td>operating</td>\n",
       "      <td>USA</td>\n",
       "      <td>DE</td>\n",
       "      <td>DE - Other</td>\n",
       "      <td>Delaware City</td>\n",
       "      <td>04-09-2014</td>\n",
       "    </tr>\n",
       "    <tr>\n",
       "      <th>2</th>\n",
       "      <td>/Organization/-The-One-Of-Them-Inc-</td>\n",
       "      <td>(THE) ONE of THEM,Inc.</td>\n",
       "      <td>http://oneofthem.jp</td>\n",
       "      <td>Apps|Games|Mobile</td>\n",
       "      <td>operating</td>\n",
       "      <td>NaN</td>\n",
       "      <td>NaN</td>\n",
       "      <td>NaN</td>\n",
       "      <td>NaN</td>\n",
       "      <td>NaN</td>\n",
       "    </tr>\n",
       "    <tr>\n",
       "      <th>3</th>\n",
       "      <td>/Organization/0-6-Com</td>\n",
       "      <td>0-6.com</td>\n",
       "      <td>http://www.0-6.com</td>\n",
       "      <td>Curated Web</td>\n",
       "      <td>operating</td>\n",
       "      <td>CHN</td>\n",
       "      <td>22</td>\n",
       "      <td>Beijing</td>\n",
       "      <td>Beijing</td>\n",
       "      <td>01-01-2007</td>\n",
       "    </tr>\n",
       "    <tr>\n",
       "      <th>4</th>\n",
       "      <td>/Organization/004-Technologies</td>\n",
       "      <td>004 Technologies</td>\n",
       "      <td>http://004gmbh.de/en/004-interact</td>\n",
       "      <td>Software</td>\n",
       "      <td>operating</td>\n",
       "      <td>USA</td>\n",
       "      <td>IL</td>\n",
       "      <td>Springfield, Illinois</td>\n",
       "      <td>Champaign</td>\n",
       "      <td>01-01-2010</td>\n",
       "    </tr>\n",
       "  </tbody>\n",
       "</table>\n",
       "</div>"
      ],
      "text/plain": [
       "                             permalink                    name  \\\n",
       "0                  /Organization/-Fame                   #fame   \n",
       "1               /Organization/-Qounter                :Qounter   \n",
       "2  /Organization/-The-One-Of-Them-Inc-  (THE) ONE of THEM,Inc.   \n",
       "3                /Organization/0-6-Com                 0-6.com   \n",
       "4       /Organization/004-Technologies        004 Technologies   \n",
       "\n",
       "                        homepage_url  \\\n",
       "0                 http://livfame.com   \n",
       "1             http://www.qounter.com   \n",
       "2                http://oneofthem.jp   \n",
       "3                 http://www.0-6.com   \n",
       "4  http://004gmbh.de/en/004-interact   \n",
       "\n",
       "                                       category_list     status country_code  \\\n",
       "0                                              Media  operating          IND   \n",
       "1  Application Platforms|Real Time|Social Network...  operating          USA   \n",
       "2                                  Apps|Games|Mobile  operating          NaN   \n",
       "3                                        Curated Web  operating          CHN   \n",
       "4                                           Software  operating          USA   \n",
       "\n",
       "  state_code                 region           city  founded_at  \n",
       "0         16                 Mumbai         Mumbai         NaN  \n",
       "1         DE             DE - Other  Delaware City  04-09-2014  \n",
       "2        NaN                    NaN            NaN         NaN  \n",
       "3         22                Beijing        Beijing  01-01-2007  \n",
       "4         IL  Springfield, Illinois      Champaign  01-01-2010  "
      ]
     },
     "execution_count": 3,
     "metadata": {},
     "output_type": "execute_result"
    }
   ],
   "source": [
    "#Load the dataset, and specify the encoding type\n",
    "companies = pd.read_csv('companies.csv', encoding='latin_1')\n",
    "companies.head()"
   ]
  },
  {
   "cell_type": "code",
   "execution_count": 4,
   "metadata": {},
   "outputs": [
    {
     "data": {
      "text/html": [
       "<div>\n",
       "<style scoped>\n",
       "    .dataframe tbody tr th:only-of-type {\n",
       "        vertical-align: middle;\n",
       "    }\n",
       "\n",
       "    .dataframe tbody tr th {\n",
       "        vertical-align: top;\n",
       "    }\n",
       "\n",
       "    .dataframe thead th {\n",
       "        text-align: right;\n",
       "    }\n",
       "</style>\n",
       "<table border=\"1\" class=\"dataframe\">\n",
       "  <thead>\n",
       "    <tr style=\"text-align: right;\">\n",
       "      <th></th>\n",
       "      <th>company_permalink</th>\n",
       "      <th>funding_round_permalink</th>\n",
       "      <th>funding_round_type</th>\n",
       "      <th>funding_round_code</th>\n",
       "      <th>funded_at</th>\n",
       "      <th>raised_amount_usd</th>\n",
       "    </tr>\n",
       "  </thead>\n",
       "  <tbody>\n",
       "    <tr>\n",
       "      <th>0</th>\n",
       "      <td>/organization/-fame</td>\n",
       "      <td>/funding-round/9a01d05418af9f794eebff7ace91f638</td>\n",
       "      <td>venture</td>\n",
       "      <td>B</td>\n",
       "      <td>05-01-2015</td>\n",
       "      <td>10000000.00</td>\n",
       "    </tr>\n",
       "    <tr>\n",
       "      <th>1</th>\n",
       "      <td>/ORGANIZATION/-QOUNTER</td>\n",
       "      <td>/funding-round/22dacff496eb7acb2b901dec1dfe5633</td>\n",
       "      <td>venture</td>\n",
       "      <td>A</td>\n",
       "      <td>14-10-2014</td>\n",
       "      <td>nan</td>\n",
       "    </tr>\n",
       "    <tr>\n",
       "      <th>2</th>\n",
       "      <td>/organization/-qounter</td>\n",
       "      <td>/funding-round/b44fbb94153f6cdef13083530bb48030</td>\n",
       "      <td>seed</td>\n",
       "      <td>NaN</td>\n",
       "      <td>01-03-2014</td>\n",
       "      <td>700000.00</td>\n",
       "    </tr>\n",
       "    <tr>\n",
       "      <th>3</th>\n",
       "      <td>/ORGANIZATION/-THE-ONE-OF-THEM-INC-</td>\n",
       "      <td>/funding-round/650b8f704416801069bb178a1418776b</td>\n",
       "      <td>venture</td>\n",
       "      <td>B</td>\n",
       "      <td>30-01-2014</td>\n",
       "      <td>3406878.00</td>\n",
       "    </tr>\n",
       "    <tr>\n",
       "      <th>4</th>\n",
       "      <td>/organization/0-6-com</td>\n",
       "      <td>/funding-round/5727accaeaa57461bd22a9bdd945382d</td>\n",
       "      <td>venture</td>\n",
       "      <td>A</td>\n",
       "      <td>19-03-2008</td>\n",
       "      <td>2000000.00</td>\n",
       "    </tr>\n",
       "  </tbody>\n",
       "</table>\n",
       "</div>"
      ],
      "text/plain": [
       "                     company_permalink  \\\n",
       "0                  /organization/-fame   \n",
       "1               /ORGANIZATION/-QOUNTER   \n",
       "2               /organization/-qounter   \n",
       "3  /ORGANIZATION/-THE-ONE-OF-THEM-INC-   \n",
       "4                /organization/0-6-com   \n",
       "\n",
       "                           funding_round_permalink funding_round_type  \\\n",
       "0  /funding-round/9a01d05418af9f794eebff7ace91f638            venture   \n",
       "1  /funding-round/22dacff496eb7acb2b901dec1dfe5633            venture   \n",
       "2  /funding-round/b44fbb94153f6cdef13083530bb48030               seed   \n",
       "3  /funding-round/650b8f704416801069bb178a1418776b            venture   \n",
       "4  /funding-round/5727accaeaa57461bd22a9bdd945382d            venture   \n",
       "\n",
       "  funding_round_code   funded_at  raised_amount_usd  \n",
       "0                  B  05-01-2015        10000000.00  \n",
       "1                  A  14-10-2014                nan  \n",
       "2                NaN  01-03-2014          700000.00  \n",
       "3                  B  30-01-2014         3406878.00  \n",
       "4                  A  19-03-2008         2000000.00  "
      ]
     },
     "execution_count": 4,
     "metadata": {},
     "output_type": "execute_result"
    }
   ],
   "source": [
    "#Load the dataset, and specify the encoding type\n",
    "rounds2 = pd.read_csv('rounds2.csv', encoding='latin_1')\n",
    "rounds2.head()"
   ]
  },
  {
   "cell_type": "markdown",
   "metadata": {},
   "source": [
    "### Lowercase conversion\n",
    "Company names are present in different case style. Converting all to lowercase for unique identification"
   ]
  },
  {
   "cell_type": "code",
   "execution_count": 5,
   "metadata": {},
   "outputs": [],
   "source": [
    "companies['permalink'] = companies['permalink'].apply(lambda x: x.lower())\n",
    "rounds2['company_permalink'] = rounds2['company_permalink'].apply(lambda x: x.lower())"
   ]
  },
  {
   "cell_type": "code",
   "execution_count": 6,
   "metadata": {},
   "outputs": [
    {
     "data": {
      "text/plain": [
       "(66368, 66370)"
      ]
     },
     "execution_count": 6,
     "metadata": {},
     "output_type": "execute_result"
    }
   ],
   "source": [
    "# count the no of unique company names\n",
    "companies['permalink'].nunique(), rounds2['company_permalink'].nunique()"
   ]
  },
  {
   "cell_type": "code",
   "execution_count": 7,
   "metadata": {},
   "outputs": [
    {
     "data": {
      "text/plain": [
       "{'/organization/e-cã\\x8abica',\n",
       " '/organization/e-cã\\x9abica',\n",
       " '/organization/energystone-games-ç\\x81µç\\x9f³æ¸¸æ\\x88\\x8f',\n",
       " '/organization/energystone-games-ç\\x81µçÿ³æ¸¸æ\\x88\\x8f',\n",
       " '/organization/huizuche-com-æ\\x83\\xa0ç§\\x9fè½¦',\n",
       " '/organization/huizuche-com-æ\\x83\\xa0ç§ÿè½¦',\n",
       " '/organization/magnet-tech-ç£\\x81ç\\x9f³ç§\\x91æ\\x8a\\x80',\n",
       " '/organization/tipcat-interactive-æ²\\x99è\\x88\\x9fä¿¡æ\\x81¯ç§\\x91æ\\x9a\\x80',\n",
       " '/organization/tipcat-interactive-æ²\\x99è\\x88ÿä¿¡æ\\x81¯ç§\\x91æ\\x9a\\x80',\n",
       " '/organization/weiche-tech-å\\x96\\x82è½¦ç§\\x91æ\\x8a\\x80',\n",
       " '/organization/zengame-ç¦\\x85æ¸¸ç§\\x91æ\\x8a\\x80',\n",
       " '/organization/zengame-ç¦\\x85æ¸¸ç§\\x91æ\\x9a\\x80'}"
      ]
     },
     "execution_count": 7,
     "metadata": {},
     "output_type": "execute_result"
    }
   ],
   "source": [
    "# Let us see the company names that are different in the 2 dataframes\n",
    "set(rounds2['company_permalink']).symmetric_difference(set(companies['permalink']))"
   ]
  },
  {
   "cell_type": "markdown",
   "metadata": {},
   "source": [
    "### Encoding\n",
    "We see that the same company names are being identified as different due to the presence special characters\n",
    "Let us change the encoding types of the fields containing company names "
   ]
  },
  {
   "cell_type": "code",
   "execution_count": 8,
   "metadata": {},
   "outputs": [],
   "source": [
    "companies['permalink'] = companies['permalink'].str.encode('latin_1').str.decode('ascii', 'ignore')\n",
    "rounds2['company_permalink'] = rounds2['company_permalink'].str.encode('latin_1').str.decode('ascii', 'ignore')"
   ]
  },
  {
   "cell_type": "code",
   "execution_count": 9,
   "metadata": {},
   "outputs": [
    {
     "data": {
      "text/plain": [
       "set()"
      ]
     },
     "execution_count": 9,
     "metadata": {},
     "output_type": "execute_result"
    }
   ],
   "source": [
    "# check the difference again\n",
    "set(rounds2['company_permalink']).symmetric_difference(set(companies['permalink']))"
   ]
  },
  {
   "cell_type": "markdown",
   "metadata": {},
   "source": [
    "### Unique companies\n",
    "Now, let us check number of unique companies in both the datasets"
   ]
  },
  {
   "cell_type": "code",
   "execution_count": 10,
   "metadata": {},
   "outputs": [
    {
     "data": {
      "text/plain": [
       "(66368, 66368)"
      ]
     },
     "execution_count": 10,
     "metadata": {},
     "output_type": "execute_result"
    }
   ],
   "source": [
    "companies['permalink'].nunique(), rounds2['company_permalink'].nunique()"
   ]
  },
  {
   "cell_type": "markdown",
   "metadata": {},
   "source": [
    "### Merge\n",
    "We can see that both the datasets have same companies in them. \n",
    "They can be easily merged by doing a inner join on those columns"
   ]
  },
  {
   "cell_type": "code",
   "execution_count": 11,
   "metadata": {
    "scrolled": true
   },
   "outputs": [
    {
     "data": {
      "text/html": [
       "<div>\n",
       "<style scoped>\n",
       "    .dataframe tbody tr th:only-of-type {\n",
       "        vertical-align: middle;\n",
       "    }\n",
       "\n",
       "    .dataframe tbody tr th {\n",
       "        vertical-align: top;\n",
       "    }\n",
       "\n",
       "    .dataframe thead th {\n",
       "        text-align: right;\n",
       "    }\n",
       "</style>\n",
       "<table border=\"1\" class=\"dataframe\">\n",
       "  <thead>\n",
       "    <tr style=\"text-align: right;\">\n",
       "      <th></th>\n",
       "      <th>permalink</th>\n",
       "      <th>name</th>\n",
       "      <th>homepage_url</th>\n",
       "      <th>category_list</th>\n",
       "      <th>status</th>\n",
       "      <th>country_code</th>\n",
       "      <th>state_code</th>\n",
       "      <th>region</th>\n",
       "      <th>city</th>\n",
       "      <th>founded_at</th>\n",
       "      <th>company_permalink</th>\n",
       "      <th>funding_round_permalink</th>\n",
       "      <th>funding_round_type</th>\n",
       "      <th>funding_round_code</th>\n",
       "      <th>funded_at</th>\n",
       "      <th>raised_amount_usd</th>\n",
       "    </tr>\n",
       "  </thead>\n",
       "  <tbody>\n",
       "    <tr>\n",
       "      <th>0</th>\n",
       "      <td>/organization/-fame</td>\n",
       "      <td>#fame</td>\n",
       "      <td>http://livfame.com</td>\n",
       "      <td>Media</td>\n",
       "      <td>operating</td>\n",
       "      <td>IND</td>\n",
       "      <td>16</td>\n",
       "      <td>Mumbai</td>\n",
       "      <td>Mumbai</td>\n",
       "      <td>NaN</td>\n",
       "      <td>/organization/-fame</td>\n",
       "      <td>/funding-round/9a01d05418af9f794eebff7ace91f638</td>\n",
       "      <td>venture</td>\n",
       "      <td>B</td>\n",
       "      <td>05-01-2015</td>\n",
       "      <td>10000000.00</td>\n",
       "    </tr>\n",
       "    <tr>\n",
       "      <th>1</th>\n",
       "      <td>/organization/-qounter</td>\n",
       "      <td>:Qounter</td>\n",
       "      <td>http://www.qounter.com</td>\n",
       "      <td>Application Platforms|Real Time|Social Network...</td>\n",
       "      <td>operating</td>\n",
       "      <td>USA</td>\n",
       "      <td>DE</td>\n",
       "      <td>DE - Other</td>\n",
       "      <td>Delaware City</td>\n",
       "      <td>04-09-2014</td>\n",
       "      <td>/organization/-qounter</td>\n",
       "      <td>/funding-round/22dacff496eb7acb2b901dec1dfe5633</td>\n",
       "      <td>venture</td>\n",
       "      <td>A</td>\n",
       "      <td>14-10-2014</td>\n",
       "      <td>nan</td>\n",
       "    </tr>\n",
       "    <tr>\n",
       "      <th>2</th>\n",
       "      <td>/organization/-qounter</td>\n",
       "      <td>:Qounter</td>\n",
       "      <td>http://www.qounter.com</td>\n",
       "      <td>Application Platforms|Real Time|Social Network...</td>\n",
       "      <td>operating</td>\n",
       "      <td>USA</td>\n",
       "      <td>DE</td>\n",
       "      <td>DE - Other</td>\n",
       "      <td>Delaware City</td>\n",
       "      <td>04-09-2014</td>\n",
       "      <td>/organization/-qounter</td>\n",
       "      <td>/funding-round/b44fbb94153f6cdef13083530bb48030</td>\n",
       "      <td>seed</td>\n",
       "      <td>NaN</td>\n",
       "      <td>01-03-2014</td>\n",
       "      <td>700000.00</td>\n",
       "    </tr>\n",
       "    <tr>\n",
       "      <th>3</th>\n",
       "      <td>/organization/-the-one-of-them-inc-</td>\n",
       "      <td>(THE) ONE of THEM,Inc.</td>\n",
       "      <td>http://oneofthem.jp</td>\n",
       "      <td>Apps|Games|Mobile</td>\n",
       "      <td>operating</td>\n",
       "      <td>NaN</td>\n",
       "      <td>NaN</td>\n",
       "      <td>NaN</td>\n",
       "      <td>NaN</td>\n",
       "      <td>NaN</td>\n",
       "      <td>/organization/-the-one-of-them-inc-</td>\n",
       "      <td>/funding-round/650b8f704416801069bb178a1418776b</td>\n",
       "      <td>venture</td>\n",
       "      <td>B</td>\n",
       "      <td>30-01-2014</td>\n",
       "      <td>3406878.00</td>\n",
       "    </tr>\n",
       "    <tr>\n",
       "      <th>4</th>\n",
       "      <td>/organization/0-6-com</td>\n",
       "      <td>0-6.com</td>\n",
       "      <td>http://www.0-6.com</td>\n",
       "      <td>Curated Web</td>\n",
       "      <td>operating</td>\n",
       "      <td>CHN</td>\n",
       "      <td>22</td>\n",
       "      <td>Beijing</td>\n",
       "      <td>Beijing</td>\n",
       "      <td>01-01-2007</td>\n",
       "      <td>/organization/0-6-com</td>\n",
       "      <td>/funding-round/5727accaeaa57461bd22a9bdd945382d</td>\n",
       "      <td>venture</td>\n",
       "      <td>A</td>\n",
       "      <td>19-03-2008</td>\n",
       "      <td>2000000.00</td>\n",
       "    </tr>\n",
       "  </tbody>\n",
       "</table>\n",
       "</div>"
      ],
      "text/plain": [
       "                             permalink                    name  \\\n",
       "0                  /organization/-fame                   #fame   \n",
       "1               /organization/-qounter                :Qounter   \n",
       "2               /organization/-qounter                :Qounter   \n",
       "3  /organization/-the-one-of-them-inc-  (THE) ONE of THEM,Inc.   \n",
       "4                /organization/0-6-com                 0-6.com   \n",
       "\n",
       "             homepage_url                                      category_list  \\\n",
       "0      http://livfame.com                                              Media   \n",
       "1  http://www.qounter.com  Application Platforms|Real Time|Social Network...   \n",
       "2  http://www.qounter.com  Application Platforms|Real Time|Social Network...   \n",
       "3     http://oneofthem.jp                                  Apps|Games|Mobile   \n",
       "4      http://www.0-6.com                                        Curated Web   \n",
       "\n",
       "      status country_code state_code      region           city  founded_at  \\\n",
       "0  operating          IND         16      Mumbai         Mumbai         NaN   \n",
       "1  operating          USA         DE  DE - Other  Delaware City  04-09-2014   \n",
       "2  operating          USA         DE  DE - Other  Delaware City  04-09-2014   \n",
       "3  operating          NaN        NaN         NaN            NaN         NaN   \n",
       "4  operating          CHN         22     Beijing        Beijing  01-01-2007   \n",
       "\n",
       "                     company_permalink  \\\n",
       "0                  /organization/-fame   \n",
       "1               /organization/-qounter   \n",
       "2               /organization/-qounter   \n",
       "3  /organization/-the-one-of-them-inc-   \n",
       "4                /organization/0-6-com   \n",
       "\n",
       "                           funding_round_permalink funding_round_type  \\\n",
       "0  /funding-round/9a01d05418af9f794eebff7ace91f638            venture   \n",
       "1  /funding-round/22dacff496eb7acb2b901dec1dfe5633            venture   \n",
       "2  /funding-round/b44fbb94153f6cdef13083530bb48030               seed   \n",
       "3  /funding-round/650b8f704416801069bb178a1418776b            venture   \n",
       "4  /funding-round/5727accaeaa57461bd22a9bdd945382d            venture   \n",
       "\n",
       "  funding_round_code   funded_at  raised_amount_usd  \n",
       "0                  B  05-01-2015        10000000.00  \n",
       "1                  A  14-10-2014                nan  \n",
       "2                NaN  01-03-2014          700000.00  \n",
       "3                  B  30-01-2014         3406878.00  \n",
       "4                  A  19-03-2008         2000000.00  "
      ]
     },
     "execution_count": 11,
     "metadata": {},
     "output_type": "execute_result"
    }
   ],
   "source": [
    "master_frame = pd.merge(companies, rounds2, how='inner', left_on='permalink', right_on='company_permalink')\n",
    "master_frame.head()"
   ]
  },
  {
   "cell_type": "code",
   "execution_count": 12,
   "metadata": {},
   "outputs": [
    {
     "name": "stdout",
     "output_type": "stream",
     "text": [
      "<class 'pandas.core.frame.DataFrame'>\n",
      "Int64Index: 114949 entries, 0 to 114948\n",
      "Data columns (total 16 columns):\n",
      " #   Column                   Non-Null Count   Dtype  \n",
      "---  ------                   --------------   -----  \n",
      " 0   permalink                114949 non-null  object \n",
      " 1   name                     114948 non-null  object \n",
      " 2   homepage_url             108815 non-null  object \n",
      " 3   category_list            111539 non-null  object \n",
      " 4   status                   114949 non-null  object \n",
      " 5   country_code             106271 non-null  object \n",
      " 6   state_code               104003 non-null  object \n",
      " 7   region                   104782 non-null  object \n",
      " 8   city                     104785 non-null  object \n",
      " 9   founded_at               94428 non-null   object \n",
      " 10  company_permalink        114949 non-null  object \n",
      " 11  funding_round_permalink  114949 non-null  object \n",
      " 12  funding_round_type       114949 non-null  object \n",
      " 13  funding_round_code       31140 non-null   object \n",
      " 14  funded_at                114949 non-null  object \n",
      " 15  raised_amount_usd        94959 non-null   float64\n",
      "dtypes: float64(1), object(15)\n",
      "memory usage: 14.9+ MB\n"
     ]
    }
   ],
   "source": [
    "master_frame.info()"
   ]
  },
  {
   "cell_type": "code",
   "execution_count": 13,
   "metadata": {},
   "outputs": [
    {
     "name": "stdout",
     "output_type": "stream",
     "text": [
      "permalink                  0.00\n",
      "name                       0.00\n",
      "homepage_url               5.34\n",
      "category_list              2.97\n",
      "status                     0.00\n",
      "country_code               7.55\n",
      "state_code                 9.52\n",
      "region                     8.84\n",
      "city                       8.84\n",
      "founded_at                17.85\n",
      "company_permalink          0.00\n",
      "funding_round_permalink    0.00\n",
      "funding_round_type         0.00\n",
      "funding_round_code        72.91\n",
      "funded_at                  0.00\n",
      "raised_amount_usd         17.39\n",
      "dtype: float64\n"
     ]
    }
   ],
   "source": [
    "# Check the percentage of missing values\n",
    "print(100*master_frame.isnull().sum()/len(master_frame.index))"
   ]
  },
  {
   "cell_type": "code",
   "execution_count": 14,
   "metadata": {},
   "outputs": [
    {
     "data": {
      "text/html": [
       "<div>\n",
       "<style scoped>\n",
       "    .dataframe tbody tr th:only-of-type {\n",
       "        vertical-align: middle;\n",
       "    }\n",
       "\n",
       "    .dataframe tbody tr th {\n",
       "        vertical-align: top;\n",
       "    }\n",
       "\n",
       "    .dataframe thead th {\n",
       "        text-align: right;\n",
       "    }\n",
       "</style>\n",
       "<table border=\"1\" class=\"dataframe\">\n",
       "  <thead>\n",
       "    <tr style=\"text-align: right;\">\n",
       "      <th></th>\n",
       "      <th>raised_amount_usd</th>\n",
       "    </tr>\n",
       "  </thead>\n",
       "  <tbody>\n",
       "    <tr>\n",
       "      <th>count</th>\n",
       "      <td>94959.00</td>\n",
       "    </tr>\n",
       "    <tr>\n",
       "      <th>mean</th>\n",
       "      <td>10426869.33</td>\n",
       "    </tr>\n",
       "    <tr>\n",
       "      <th>std</th>\n",
       "      <td>114821247.98</td>\n",
       "    </tr>\n",
       "    <tr>\n",
       "      <th>min</th>\n",
       "      <td>0.00</td>\n",
       "    </tr>\n",
       "    <tr>\n",
       "      <th>25%</th>\n",
       "      <td>322500.00</td>\n",
       "    </tr>\n",
       "    <tr>\n",
       "      <th>50%</th>\n",
       "      <td>1680511.00</td>\n",
       "    </tr>\n",
       "    <tr>\n",
       "      <th>75%</th>\n",
       "      <td>7000000.00</td>\n",
       "    </tr>\n",
       "    <tr>\n",
       "      <th>max</th>\n",
       "      <td>21271935000.00</td>\n",
       "    </tr>\n",
       "  </tbody>\n",
       "</table>\n",
       "</div>"
      ],
      "text/plain": [
       "       raised_amount_usd\n",
       "count           94959.00\n",
       "mean         10426869.33\n",
       "std         114821247.98\n",
       "min                 0.00\n",
       "25%            322500.00\n",
       "50%           1680511.00\n",
       "75%           7000000.00\n",
       "max       21271935000.00"
      ]
     },
     "execution_count": 14,
     "metadata": {},
     "output_type": "execute_result"
    }
   ],
   "source": [
    "# let us analyze the raised_amount_usd column\n",
    "master_frame.describe()"
   ]
  },
  {
   "cell_type": "markdown",
   "metadata": {},
   "source": [
    "We see that the variation in the raised_amount_usd column is very high. Hence, we will not impute the missing values with mean/median \n",
    "### Dropping rows with null values\n",
    "Let us drop the rows that have missing values in raised_amount_usd column as of now.\n",
    "Other columns also contain missing values, but we will drop them after our analysis on investment type"
   ]
  },
  {
   "cell_type": "code",
   "execution_count": 15,
   "metadata": {},
   "outputs": [
    {
     "name": "stdout",
     "output_type": "stream",
     "text": [
      "82.60967907506807\n"
     ]
    }
   ],
   "source": [
    "master_frame = master_frame[~master_frame['raised_amount_usd'].isnull()]\n",
    "\n",
    "# Amount of data retained\n",
    "print(100*(len(master_frame.index)/114949))"
   ]
  },
  {
   "cell_type": "code",
   "execution_count": 16,
   "metadata": {},
   "outputs": [
    {
     "data": {
      "text/html": [
       "<div>\n",
       "<style scoped>\n",
       "    .dataframe tbody tr th:only-of-type {\n",
       "        vertical-align: middle;\n",
       "    }\n",
       "\n",
       "    .dataframe tbody tr th {\n",
       "        vertical-align: top;\n",
       "    }\n",
       "\n",
       "    .dataframe thead th {\n",
       "        text-align: right;\n",
       "    }\n",
       "</style>\n",
       "<table border=\"1\" class=\"dataframe\">\n",
       "  <thead>\n",
       "    <tr style=\"text-align: right;\">\n",
       "      <th></th>\n",
       "      <th>permalink</th>\n",
       "      <th>name</th>\n",
       "      <th>homepage_url</th>\n",
       "      <th>category_list</th>\n",
       "      <th>status</th>\n",
       "      <th>country_code</th>\n",
       "      <th>state_code</th>\n",
       "      <th>region</th>\n",
       "      <th>city</th>\n",
       "      <th>founded_at</th>\n",
       "      <th>company_permalink</th>\n",
       "      <th>funding_round_permalink</th>\n",
       "      <th>funding_round_type</th>\n",
       "      <th>funding_round_code</th>\n",
       "      <th>funded_at</th>\n",
       "      <th>raised_amount_usd</th>\n",
       "    </tr>\n",
       "  </thead>\n",
       "  <tbody>\n",
       "    <tr>\n",
       "      <th>64472</th>\n",
       "      <td>/organization/mstrial-productions</td>\n",
       "      <td>MsTRIAL Productions</td>\n",
       "      <td>NaN</td>\n",
       "      <td>Media|News|Video</td>\n",
       "      <td>operating</td>\n",
       "      <td>USA</td>\n",
       "      <td>CA</td>\n",
       "      <td>Los Angeles</td>\n",
       "      <td>Burbank</td>\n",
       "      <td>16-07-2008</td>\n",
       "      <td>/organization/mstrial-productions</td>\n",
       "      <td>/funding-round/ac2bdac026d67b9aab25a16cce8a2de7</td>\n",
       "      <td>equity_crowdfunding</td>\n",
       "      <td>NaN</td>\n",
       "      <td>15-07-2015</td>\n",
       "      <td>0.00</td>\n",
       "    </tr>\n",
       "    <tr>\n",
       "      <th>69523</th>\n",
       "      <td>/organization/obesity-ppm</td>\n",
       "      <td>Obesity PPM</td>\n",
       "      <td>http://obesityppm.com/</td>\n",
       "      <td>Health and Wellness|Medical</td>\n",
       "      <td>operating</td>\n",
       "      <td>USA</td>\n",
       "      <td>VA</td>\n",
       "      <td>Washington, D.C.</td>\n",
       "      <td>Great Falls</td>\n",
       "      <td>01-03-2009</td>\n",
       "      <td>/organization/obesity-ppm</td>\n",
       "      <td>/funding-round/9884d48a3fbad112048c07919abd10ae</td>\n",
       "      <td>equity_crowdfunding</td>\n",
       "      <td>NaN</td>\n",
       "      <td>18-06-2015</td>\n",
       "      <td>0.00</td>\n",
       "    </tr>\n",
       "    <tr>\n",
       "      <th>58998</th>\n",
       "      <td>/organization/maplace-co</td>\n",
       "      <td>Maplace.co</td>\n",
       "      <td>http://maplace.co</td>\n",
       "      <td>Advertising|Digital Media|Maps|Social Media|So...</td>\n",
       "      <td>operating</td>\n",
       "      <td>GBR</td>\n",
       "      <td>H9</td>\n",
       "      <td>London</td>\n",
       "      <td>London</td>\n",
       "      <td>03-03-2014</td>\n",
       "      <td>/organization/maplace-co</td>\n",
       "      <td>/funding-round/df9e1859a0fb7c5b49c92e6508ec8bb2</td>\n",
       "      <td>seed</td>\n",
       "      <td>NaN</td>\n",
       "      <td>19-08-2015</td>\n",
       "      <td>0.00</td>\n",
       "    </tr>\n",
       "    <tr>\n",
       "      <th>13415</th>\n",
       "      <td>/organization/blue-energy-australia</td>\n",
       "      <td>Blue Energy Australia</td>\n",
       "      <td>https://www.e-ternity.com.au</td>\n",
       "      <td>NaN</td>\n",
       "      <td>operating</td>\n",
       "      <td>NaN</td>\n",
       "      <td>NaN</td>\n",
       "      <td>NaN</td>\n",
       "      <td>NaN</td>\n",
       "      <td>11-03-2008</td>\n",
       "      <td>/organization/blue-energy-australia</td>\n",
       "      <td>/funding-round/c27c88449036576ea3bd28908385dd20</td>\n",
       "      <td>seed</td>\n",
       "      <td>NaN</td>\n",
       "      <td>01-11-2015</td>\n",
       "      <td>0.00</td>\n",
       "    </tr>\n",
       "    <tr>\n",
       "      <th>69650</th>\n",
       "      <td>/organization/octapoly</td>\n",
       "      <td>Octapoly</td>\n",
       "      <td>NaN</td>\n",
       "      <td>Entertainment|Games</td>\n",
       "      <td>operating</td>\n",
       "      <td>GHA</td>\n",
       "      <td>9</td>\n",
       "      <td>GHA - Other</td>\n",
       "      <td>Takoradi</td>\n",
       "      <td>12-06-2014</td>\n",
       "      <td>/organization/octapoly</td>\n",
       "      <td>/funding-round/c27149369df35fd419bf00187e584047</td>\n",
       "      <td>grant</td>\n",
       "      <td>NaN</td>\n",
       "      <td>24-07-2014</td>\n",
       "      <td>0.00</td>\n",
       "    </tr>\n",
       "    <tr>\n",
       "      <th>37719</th>\n",
       "      <td>/organization/friendite-2</td>\n",
       "      <td>Friendite</td>\n",
       "      <td>http://friendite.com</td>\n",
       "      <td>NaN</td>\n",
       "      <td>operating</td>\n",
       "      <td>NGA</td>\n",
       "      <td>25</td>\n",
       "      <td>NGA - Other</td>\n",
       "      <td>Awka</td>\n",
       "      <td>01-12-2012</td>\n",
       "      <td>/organization/friendite-2</td>\n",
       "      <td>/funding-round/4ab0c05850c2cd02ded348d734ccca4e</td>\n",
       "      <td>seed</td>\n",
       "      <td>NaN</td>\n",
       "      <td>01-08-2013</td>\n",
       "      <td>0.00</td>\n",
       "    </tr>\n",
       "    <tr>\n",
       "      <th>37720</th>\n",
       "      <td>/organization/frienditeplus</td>\n",
       "      <td>Frienditeplus.com</td>\n",
       "      <td>http://frienditeplus.com</td>\n",
       "      <td>Advertising Platforms|Chat|Social Network Medi...</td>\n",
       "      <td>operating</td>\n",
       "      <td>NGA</td>\n",
       "      <td>25</td>\n",
       "      <td>NGA - Other</td>\n",
       "      <td>Awka</td>\n",
       "      <td>02-02-2013</td>\n",
       "      <td>/organization/frienditeplus</td>\n",
       "      <td>/funding-round/e5c11c080033c07289cc5988c5f05b59</td>\n",
       "      <td>seed</td>\n",
       "      <td>NaN</td>\n",
       "      <td>02-03-2014</td>\n",
       "      <td>0.00</td>\n",
       "    </tr>\n",
       "    <tr>\n",
       "      <th>13295</th>\n",
       "      <td>/organization/bloomery-plantation-distillery-b...</td>\n",
       "      <td>Bloomery Plantation Distillery Bloomery SweetS...</td>\n",
       "      <td>http://bloomerysweetshine.com/</td>\n",
       "      <td>NaN</td>\n",
       "      <td>operating</td>\n",
       "      <td>USA</td>\n",
       "      <td>WV</td>\n",
       "      <td>WV - Other</td>\n",
       "      <td>Charles Town</td>\n",
       "      <td>17-09-2011</td>\n",
       "      <td>/organization/bloomery-plantation-distillery-b...</td>\n",
       "      <td>/funding-round/7e958de65fb23286d055144dcd285c7d</td>\n",
       "      <td>equity_crowdfunding</td>\n",
       "      <td>NaN</td>\n",
       "      <td>21-09-2014</td>\n",
       "      <td>0.00</td>\n",
       "    </tr>\n",
       "    <tr>\n",
       "      <th>13193</th>\n",
       "      <td>/organization/bliss-4</td>\n",
       "      <td>Bliss</td>\n",
       "      <td>http://blissmobilemassage.com/</td>\n",
       "      <td>Consulting</td>\n",
       "      <td>operating</td>\n",
       "      <td>USA</td>\n",
       "      <td>CA</td>\n",
       "      <td>Los Angeles</td>\n",
       "      <td>Los Angeles</td>\n",
       "      <td>12-03-2015</td>\n",
       "      <td>/organization/bliss-4</td>\n",
       "      <td>/funding-round/32bcda787dadd19519ccad82c0795ed6</td>\n",
       "      <td>equity_crowdfunding</td>\n",
       "      <td>NaN</td>\n",
       "      <td>07-10-2014</td>\n",
       "      <td>0.00</td>\n",
       "    </tr>\n",
       "    <tr>\n",
       "      <th>93212</th>\n",
       "      <td>/organization/spartan-3-cybersecurity</td>\n",
       "      <td>Spartan 3 Cybersecurity</td>\n",
       "      <td>http://www.spartan3.com/</td>\n",
       "      <td>Cyber Security|Security|Software</td>\n",
       "      <td>operating</td>\n",
       "      <td>USA</td>\n",
       "      <td>NH</td>\n",
       "      <td>Manchester, New Hampshire</td>\n",
       "      <td>Bedford</td>\n",
       "      <td>04-11-2014</td>\n",
       "      <td>/organization/spartan-3-cybersecurity</td>\n",
       "      <td>/funding-round/03e3e99dc66d3f2084bad307b710bc52</td>\n",
       "      <td>equity_crowdfunding</td>\n",
       "      <td>NaN</td>\n",
       "      <td>04-11-2014</td>\n",
       "      <td>0.00</td>\n",
       "    </tr>\n",
       "  </tbody>\n",
       "</table>\n",
       "</div>"
      ],
      "text/plain": [
       "                                               permalink  \\\n",
       "64472                  /organization/mstrial-productions   \n",
       "69523                          /organization/obesity-ppm   \n",
       "58998                           /organization/maplace-co   \n",
       "13415                /organization/blue-energy-australia   \n",
       "69650                             /organization/octapoly   \n",
       "37719                          /organization/friendite-2   \n",
       "37720                        /organization/frienditeplus   \n",
       "13295  /organization/bloomery-plantation-distillery-b...   \n",
       "13193                              /organization/bliss-4   \n",
       "93212              /organization/spartan-3-cybersecurity   \n",
       "\n",
       "                                                    name  \\\n",
       "64472                                MsTRIAL Productions   \n",
       "69523                                        Obesity PPM   \n",
       "58998                                         Maplace.co   \n",
       "13415                              Blue Energy Australia   \n",
       "69650                                           Octapoly   \n",
       "37719                                          Friendite   \n",
       "37720                                  Frienditeplus.com   \n",
       "13295  Bloomery Plantation Distillery Bloomery SweetS...   \n",
       "13193                                              Bliss   \n",
       "93212                            Spartan 3 Cybersecurity   \n",
       "\n",
       "                         homepage_url  \\\n",
       "64472                             NaN   \n",
       "69523          http://obesityppm.com/   \n",
       "58998               http://maplace.co   \n",
       "13415    https://www.e-ternity.com.au   \n",
       "69650                             NaN   \n",
       "37719            http://friendite.com   \n",
       "37720        http://frienditeplus.com   \n",
       "13295  http://bloomerysweetshine.com/   \n",
       "13193  http://blissmobilemassage.com/   \n",
       "93212        http://www.spartan3.com/   \n",
       "\n",
       "                                           category_list     status  \\\n",
       "64472                                   Media|News|Video  operating   \n",
       "69523                        Health and Wellness|Medical  operating   \n",
       "58998  Advertising|Digital Media|Maps|Social Media|So...  operating   \n",
       "13415                                                NaN  operating   \n",
       "69650                                Entertainment|Games  operating   \n",
       "37719                                                NaN  operating   \n",
       "37720  Advertising Platforms|Chat|Social Network Medi...  operating   \n",
       "13295                                                NaN  operating   \n",
       "13193                                         Consulting  operating   \n",
       "93212                   Cyber Security|Security|Software  operating   \n",
       "\n",
       "      country_code state_code                     region          city  \\\n",
       "64472          USA         CA                Los Angeles       Burbank   \n",
       "69523          USA         VA           Washington, D.C.   Great Falls   \n",
       "58998          GBR         H9                     London        London   \n",
       "13415          NaN        NaN                        NaN           NaN   \n",
       "69650          GHA          9                GHA - Other      Takoradi   \n",
       "37719          NGA         25                NGA - Other          Awka   \n",
       "37720          NGA         25                NGA - Other          Awka   \n",
       "13295          USA         WV                 WV - Other  Charles Town   \n",
       "13193          USA         CA                Los Angeles   Los Angeles   \n",
       "93212          USA         NH  Manchester, New Hampshire       Bedford   \n",
       "\n",
       "       founded_at                                  company_permalink  \\\n",
       "64472  16-07-2008                  /organization/mstrial-productions   \n",
       "69523  01-03-2009                          /organization/obesity-ppm   \n",
       "58998  03-03-2014                           /organization/maplace-co   \n",
       "13415  11-03-2008                /organization/blue-energy-australia   \n",
       "69650  12-06-2014                             /organization/octapoly   \n",
       "37719  01-12-2012                          /organization/friendite-2   \n",
       "37720  02-02-2013                        /organization/frienditeplus   \n",
       "13295  17-09-2011  /organization/bloomery-plantation-distillery-b...   \n",
       "13193  12-03-2015                              /organization/bliss-4   \n",
       "93212  04-11-2014              /organization/spartan-3-cybersecurity   \n",
       "\n",
       "                               funding_round_permalink   funding_round_type  \\\n",
       "64472  /funding-round/ac2bdac026d67b9aab25a16cce8a2de7  equity_crowdfunding   \n",
       "69523  /funding-round/9884d48a3fbad112048c07919abd10ae  equity_crowdfunding   \n",
       "58998  /funding-round/df9e1859a0fb7c5b49c92e6508ec8bb2                 seed   \n",
       "13415  /funding-round/c27c88449036576ea3bd28908385dd20                 seed   \n",
       "69650  /funding-round/c27149369df35fd419bf00187e584047                grant   \n",
       "37719  /funding-round/4ab0c05850c2cd02ded348d734ccca4e                 seed   \n",
       "37720  /funding-round/e5c11c080033c07289cc5988c5f05b59                 seed   \n",
       "13295  /funding-round/7e958de65fb23286d055144dcd285c7d  equity_crowdfunding   \n",
       "13193  /funding-round/32bcda787dadd19519ccad82c0795ed6  equity_crowdfunding   \n",
       "93212  /funding-round/03e3e99dc66d3f2084bad307b710bc52  equity_crowdfunding   \n",
       "\n",
       "      funding_round_code   funded_at  raised_amount_usd  \n",
       "64472                NaN  15-07-2015               0.00  \n",
       "69523                NaN  18-06-2015               0.00  \n",
       "58998                NaN  19-08-2015               0.00  \n",
       "13415                NaN  01-11-2015               0.00  \n",
       "69650                NaN  24-07-2014               0.00  \n",
       "37719                NaN  01-08-2013               0.00  \n",
       "37720                NaN  02-03-2014               0.00  \n",
       "13295                NaN  21-09-2014               0.00  \n",
       "13193                NaN  07-10-2014               0.00  \n",
       "93212                NaN  04-11-2014               0.00  "
      ]
     },
     "execution_count": 16,
     "metadata": {},
     "output_type": "execute_result"
    }
   ],
   "source": [
    "# let us check the funding amount in detail by sorting in ascending order\n",
    "master_frame.sort_values(by='raised_amount_usd').head(10)"
   ]
  },
  {
   "cell_type": "code",
   "execution_count": 17,
   "metadata": {},
   "outputs": [
    {
     "data": {
      "text/plain": [
       "415"
      ]
     },
     "execution_count": 17,
     "metadata": {},
     "output_type": "execute_result"
    }
   ],
   "source": [
    "# number of rows with 0 investment amount\n",
    "len(master_frame[master_frame['raised_amount_usd']==0])"
   ]
  },
  {
   "cell_type": "markdown",
   "metadata": {},
   "source": [
    "### Removing Outliers\n",
    "\n",
    "Zero investment amount is not useful to the analysis. It is as good as not investing.\n",
    "So let us remove them from our datframe"
   ]
  },
  {
   "cell_type": "code",
   "execution_count": 18,
   "metadata": {},
   "outputs": [
    {
     "name": "stdout",
     "output_type": "stream",
     "text": [
      "82.24864940103872\n"
     ]
    }
   ],
   "source": [
    "master_frame = master_frame[master_frame['raised_amount_usd']>0]\n",
    "# Amount of data retained\n",
    "print(100*(len(master_frame.index)/114949))"
   ]
  },
  {
   "cell_type": "code",
   "execution_count": 19,
   "metadata": {},
   "outputs": [
    {
     "data": {
      "text/html": [
       "<div>\n",
       "<style scoped>\n",
       "    .dataframe tbody tr th:only-of-type {\n",
       "        vertical-align: middle;\n",
       "    }\n",
       "\n",
       "    .dataframe tbody tr th {\n",
       "        vertical-align: top;\n",
       "    }\n",
       "\n",
       "    .dataframe thead th {\n",
       "        text-align: right;\n",
       "    }\n",
       "</style>\n",
       "<table border=\"1\" class=\"dataframe\">\n",
       "  <thead>\n",
       "    <tr style=\"text-align: right;\">\n",
       "      <th></th>\n",
       "      <th>permalink</th>\n",
       "      <th>name</th>\n",
       "      <th>homepage_url</th>\n",
       "      <th>category_list</th>\n",
       "      <th>status</th>\n",
       "      <th>country_code</th>\n",
       "      <th>state_code</th>\n",
       "      <th>region</th>\n",
       "      <th>city</th>\n",
       "      <th>founded_at</th>\n",
       "      <th>company_permalink</th>\n",
       "      <th>funding_round_permalink</th>\n",
       "      <th>funding_round_type</th>\n",
       "      <th>funding_round_code</th>\n",
       "      <th>funded_at</th>\n",
       "      <th>raised_amount_usd</th>\n",
       "    </tr>\n",
       "  </thead>\n",
       "  <tbody>\n",
       "    <tr>\n",
       "      <th>106562</th>\n",
       "      <td>/organization/verizon</td>\n",
       "      <td>Verizon Communications</td>\n",
       "      <td>http://www.verizon.com/</td>\n",
       "      <td>Communications Infrastructure|Information Tech...</td>\n",
       "      <td>ipo</td>\n",
       "      <td>USA</td>\n",
       "      <td>NY</td>\n",
       "      <td>New York City</td>\n",
       "      <td>New York</td>\n",
       "      <td>07-10-1983</td>\n",
       "      <td>/organization/verizon</td>\n",
       "      <td>/funding-round/2bd1f5a0e7b03d7db9af5f714e6b9cdd</td>\n",
       "      <td>debt_financing</td>\n",
       "      <td>NaN</td>\n",
       "      <td>28-02-2014</td>\n",
       "      <td>21271935000.00</td>\n",
       "    </tr>\n",
       "    <tr>\n",
       "      <th>37569</th>\n",
       "      <td>/organization/freescale</td>\n",
       "      <td>Freescale Semiconductor</td>\n",
       "      <td>http://www.freescale.com</td>\n",
       "      <td>Semiconductors</td>\n",
       "      <td>ipo</td>\n",
       "      <td>USA</td>\n",
       "      <td>TX</td>\n",
       "      <td>Austin</td>\n",
       "      <td>Austin</td>\n",
       "      <td>01-01-1953</td>\n",
       "      <td>/organization/freescale</td>\n",
       "      <td>/funding-round/a1495c088d886c8a4f4ce74403b77385</td>\n",
       "      <td>venture</td>\n",
       "      <td>NaN</td>\n",
       "      <td>21-10-2006</td>\n",
       "      <td>17600000000.00</td>\n",
       "    </tr>\n",
       "    <tr>\n",
       "      <th>16470</th>\n",
       "      <td>/organization/cambridge-technology-group</td>\n",
       "      <td>Cambridge Technology Group</td>\n",
       "      <td>NaN</td>\n",
       "      <td>Consulting|Product Development Services|Produc...</td>\n",
       "      <td>operating</td>\n",
       "      <td>NaN</td>\n",
       "      <td>NaN</td>\n",
       "      <td>NaN</td>\n",
       "      <td>NaN</td>\n",
       "      <td>01-01-1988</td>\n",
       "      <td>/organization/cambridge-technology-group</td>\n",
       "      <td>/funding-round/896482503c37ea60a54dda3cd7a323d6</td>\n",
       "      <td>post_ipo_equity</td>\n",
       "      <td>NaN</td>\n",
       "      <td>01-01-2000</td>\n",
       "      <td>10664943639.00</td>\n",
       "    </tr>\n",
       "    <tr>\n",
       "      <th>86136</th>\n",
       "      <td>/organization/sberbank</td>\n",
       "      <td>Sberbank</td>\n",
       "      <td>http://www.sberbank.ru</td>\n",
       "      <td>Banking|Finance</td>\n",
       "      <td>ipo</td>\n",
       "      <td>RUS</td>\n",
       "      <td>48</td>\n",
       "      <td>Moscow</td>\n",
       "      <td>Moscow</td>\n",
       "      <td>NaN</td>\n",
       "      <td>/organization/sberbank</td>\n",
       "      <td>/funding-round/a48f63dcba48312b9d3b8e1b21fcdd9f</td>\n",
       "      <td>post_ipo_debt</td>\n",
       "      <td>NaN</td>\n",
       "      <td>07-07-2014</td>\n",
       "      <td>5800000000.00</td>\n",
       "    </tr>\n",
       "    <tr>\n",
       "      <th>16474</th>\n",
       "      <td>/organization/cambridge-technology-partners-ctp</td>\n",
       "      <td>Cambridge Technology Partners (CTP)</td>\n",
       "      <td>NaN</td>\n",
       "      <td>Architecture|Banking|Finance</td>\n",
       "      <td>ipo</td>\n",
       "      <td>NaN</td>\n",
       "      <td>NaN</td>\n",
       "      <td>NaN</td>\n",
       "      <td>NaN</td>\n",
       "      <td>11-01-1990</td>\n",
       "      <td>/organization/cambridge-technology-partners-ctp</td>\n",
       "      <td>/funding-round/38c4e6a4046032a047be1ef06c28b06e</td>\n",
       "      <td>undisclosed</td>\n",
       "      <td>NaN</td>\n",
       "      <td>01-01-2001</td>\n",
       "      <td>5000000000.00</td>\n",
       "    </tr>\n",
       "    <tr>\n",
       "      <th>75532</th>\n",
       "      <td>/organization/ping-an</td>\n",
       "      <td>Ping An</td>\n",
       "      <td>http://www.pingan.com/</td>\n",
       "      <td>Banking|Financial Services|Insurance|Investmen...</td>\n",
       "      <td>operating</td>\n",
       "      <td>CHN</td>\n",
       "      <td>NaN</td>\n",
       "      <td>NaN</td>\n",
       "      <td>NaN</td>\n",
       "      <td>NaN</td>\n",
       "      <td>/organization/ping-an</td>\n",
       "      <td>/funding-round/d4b60b811b58b882e2ca18decc30e657</td>\n",
       "      <td>private_equity</td>\n",
       "      <td>NaN</td>\n",
       "      <td>01-12-2014</td>\n",
       "      <td>4745460219.00</td>\n",
       "    </tr>\n",
       "    <tr>\n",
       "      <th>60207</th>\n",
       "      <td>/organization/mediavast</td>\n",
       "      <td>MediaVast</td>\n",
       "      <td>NaN</td>\n",
       "      <td>Advertising|Broadcasting|Content</td>\n",
       "      <td>acquired</td>\n",
       "      <td>USA</td>\n",
       "      <td>NY</td>\n",
       "      <td>New York City</td>\n",
       "      <td>New York</td>\n",
       "      <td>01-01-1999</td>\n",
       "      <td>/organization/mediavast</td>\n",
       "      <td>/funding-round/07e345b61646adffc65946de6a1c88d9</td>\n",
       "      <td>venture</td>\n",
       "      <td>B</td>\n",
       "      <td>30-06-2003</td>\n",
       "      <td>4700000000.00</td>\n",
       "    </tr>\n",
       "    <tr>\n",
       "      <th>96027</th>\n",
       "      <td>/organization/suning</td>\n",
       "      <td>Suning</td>\n",
       "      <td>http://suning.com</td>\n",
       "      <td>Distributors|E-Commerce|Manufacturing</td>\n",
       "      <td>ipo</td>\n",
       "      <td>CHN</td>\n",
       "      <td>4</td>\n",
       "      <td>Nanjing</td>\n",
       "      <td>Nanjing</td>\n",
       "      <td>01-01-1996</td>\n",
       "      <td>/organization/suning</td>\n",
       "      <td>/funding-round/3cd59297a2c3949aa1897313f6c99259</td>\n",
       "      <td>undisclosed</td>\n",
       "      <td>NaN</td>\n",
       "      <td>10-08-2015</td>\n",
       "      <td>4630000000.00</td>\n",
       "    </tr>\n",
       "    <tr>\n",
       "      <th>106564</th>\n",
       "      <td>/organization/verizon</td>\n",
       "      <td>Verizon Communications</td>\n",
       "      <td>http://www.verizon.com/</td>\n",
       "      <td>Communications Infrastructure|Information Tech...</td>\n",
       "      <td>ipo</td>\n",
       "      <td>USA</td>\n",
       "      <td>NY</td>\n",
       "      <td>New York City</td>\n",
       "      <td>New York</td>\n",
       "      <td>07-10-1983</td>\n",
       "      <td>/organization/verizon</td>\n",
       "      <td>/funding-round/d93e96a34475247d7902a12c3525b87f</td>\n",
       "      <td>debt_financing</td>\n",
       "      <td>NaN</td>\n",
       "      <td>05-03-2012</td>\n",
       "      <td>3835050000.00</td>\n",
       "    </tr>\n",
       "    <tr>\n",
       "      <th>106565</th>\n",
       "      <td>/organization/verizon</td>\n",
       "      <td>Verizon Communications</td>\n",
       "      <td>http://www.verizon.com/</td>\n",
       "      <td>Communications Infrastructure|Information Tech...</td>\n",
       "      <td>ipo</td>\n",
       "      <td>USA</td>\n",
       "      <td>NY</td>\n",
       "      <td>New York City</td>\n",
       "      <td>New York</td>\n",
       "      <td>07-10-1983</td>\n",
       "      <td>/organization/verizon</td>\n",
       "      <td>/funding-round/fbb999526a72f69c7ac2b5088fb7116a</td>\n",
       "      <td>debt_financing</td>\n",
       "      <td>NaN</td>\n",
       "      <td>01-03-2013</td>\n",
       "      <td>3822518000.00</td>\n",
       "    </tr>\n",
       "  </tbody>\n",
       "</table>\n",
       "</div>"
      ],
      "text/plain": [
       "                                              permalink  \\\n",
       "106562                            /organization/verizon   \n",
       "37569                           /organization/freescale   \n",
       "16470          /organization/cambridge-technology-group   \n",
       "86136                            /organization/sberbank   \n",
       "16474   /organization/cambridge-technology-partners-ctp   \n",
       "75532                             /organization/ping-an   \n",
       "60207                           /organization/mediavast   \n",
       "96027                              /organization/suning   \n",
       "106564                            /organization/verizon   \n",
       "106565                            /organization/verizon   \n",
       "\n",
       "                                       name              homepage_url  \\\n",
       "106562               Verizon Communications   http://www.verizon.com/   \n",
       "37569               Freescale Semiconductor  http://www.freescale.com   \n",
       "16470            Cambridge Technology Group                       NaN   \n",
       "86136                              Sberbank    http://www.sberbank.ru   \n",
       "16474   Cambridge Technology Partners (CTP)                       NaN   \n",
       "75532                               Ping An    http://www.pingan.com/   \n",
       "60207                             MediaVast                       NaN   \n",
       "96027                                Suning         http://suning.com   \n",
       "106564               Verizon Communications   http://www.verizon.com/   \n",
       "106565               Verizon Communications   http://www.verizon.com/   \n",
       "\n",
       "                                            category_list     status  \\\n",
       "106562  Communications Infrastructure|Information Tech...        ipo   \n",
       "37569                                      Semiconductors        ipo   \n",
       "16470   Consulting|Product Development Services|Produc...  operating   \n",
       "86136                                     Banking|Finance        ipo   \n",
       "16474                        Architecture|Banking|Finance        ipo   \n",
       "75532   Banking|Financial Services|Insurance|Investmen...  operating   \n",
       "60207                    Advertising|Broadcasting|Content   acquired   \n",
       "96027               Distributors|E-Commerce|Manufacturing        ipo   \n",
       "106564  Communications Infrastructure|Information Tech...        ipo   \n",
       "106565  Communications Infrastructure|Information Tech...        ipo   \n",
       "\n",
       "       country_code state_code         region      city  founded_at  \\\n",
       "106562          USA         NY  New York City  New York  07-10-1983   \n",
       "37569           USA         TX         Austin    Austin  01-01-1953   \n",
       "16470           NaN        NaN            NaN       NaN  01-01-1988   \n",
       "86136           RUS         48         Moscow    Moscow         NaN   \n",
       "16474           NaN        NaN            NaN       NaN  11-01-1990   \n",
       "75532           CHN        NaN            NaN       NaN         NaN   \n",
       "60207           USA         NY  New York City  New York  01-01-1999   \n",
       "96027           CHN          4        Nanjing   Nanjing  01-01-1996   \n",
       "106564          USA         NY  New York City  New York  07-10-1983   \n",
       "106565          USA         NY  New York City  New York  07-10-1983   \n",
       "\n",
       "                                      company_permalink  \\\n",
       "106562                            /organization/verizon   \n",
       "37569                           /organization/freescale   \n",
       "16470          /organization/cambridge-technology-group   \n",
       "86136                            /organization/sberbank   \n",
       "16474   /organization/cambridge-technology-partners-ctp   \n",
       "75532                             /organization/ping-an   \n",
       "60207                           /organization/mediavast   \n",
       "96027                              /organization/suning   \n",
       "106564                            /organization/verizon   \n",
       "106565                            /organization/verizon   \n",
       "\n",
       "                                funding_round_permalink funding_round_type  \\\n",
       "106562  /funding-round/2bd1f5a0e7b03d7db9af5f714e6b9cdd     debt_financing   \n",
       "37569   /funding-round/a1495c088d886c8a4f4ce74403b77385            venture   \n",
       "16470   /funding-round/896482503c37ea60a54dda3cd7a323d6    post_ipo_equity   \n",
       "86136   /funding-round/a48f63dcba48312b9d3b8e1b21fcdd9f      post_ipo_debt   \n",
       "16474   /funding-round/38c4e6a4046032a047be1ef06c28b06e        undisclosed   \n",
       "75532   /funding-round/d4b60b811b58b882e2ca18decc30e657     private_equity   \n",
       "60207   /funding-round/07e345b61646adffc65946de6a1c88d9            venture   \n",
       "96027   /funding-round/3cd59297a2c3949aa1897313f6c99259        undisclosed   \n",
       "106564  /funding-round/d93e96a34475247d7902a12c3525b87f     debt_financing   \n",
       "106565  /funding-round/fbb999526a72f69c7ac2b5088fb7116a     debt_financing   \n",
       "\n",
       "       funding_round_code   funded_at  raised_amount_usd  \n",
       "106562                NaN  28-02-2014     21271935000.00  \n",
       "37569                 NaN  21-10-2006     17600000000.00  \n",
       "16470                 NaN  01-01-2000     10664943639.00  \n",
       "86136                 NaN  07-07-2014      5800000000.00  \n",
       "16474                 NaN  01-01-2001      5000000000.00  \n",
       "75532                 NaN  01-12-2014      4745460219.00  \n",
       "60207                   B  30-06-2003      4700000000.00  \n",
       "96027                 NaN  10-08-2015      4630000000.00  \n",
       "106564                NaN  05-03-2012      3835050000.00  \n",
       "106565                NaN  01-03-2013      3822518000.00  "
      ]
     },
     "execution_count": 19,
     "metadata": {},
     "output_type": "execute_result"
    }
   ],
   "source": [
    "# let us check the funding amount in detail by sorting in descending order\n",
    "master_frame.sort_values(by='raised_amount_usd', ascending=False).head(10)"
   ]
  },
  {
   "cell_type": "markdown",
   "metadata": {},
   "source": [
    "### Observations\n",
    "Upon manually checking random entries with the crunchbase website. Most of the rows have correct values,\n",
    "which means that they are natural outiers, so we will proceed by keeping them as it is"
   ]
  },
  {
   "cell_type": "markdown",
   "metadata": {},
   "source": [
    "### Dropping unnecessary columns\n",
    "As we will do our analysis on category_list, country_code, funding_round_type, raised_amount_usd, etc. Other columns are not needed.\n",
    "Let us drop them"
   ]
  },
  {
   "cell_type": "code",
   "execution_count": 20,
   "metadata": {},
   "outputs": [
    {
     "name": "stdout",
     "output_type": "stream",
     "text": [
      "<class 'pandas.core.frame.DataFrame'>\n",
      "Int64Index: 94544 entries, 0 to 114948\n",
      "Data columns (total 5 columns):\n",
      " #   Column              Non-Null Count  Dtype  \n",
      "---  ------              --------------  -----  \n",
      " 0   category_list       93524 non-null  object \n",
      " 1   country_code        88729 non-null  object \n",
      " 2   company_permalink   94544 non-null  object \n",
      " 3   funding_round_type  94544 non-null  object \n",
      " 4   raised_amount_usd   94544 non-null  float64\n",
      "dtypes: float64(1), object(4)\n",
      "memory usage: 4.3+ MB\n"
     ]
    }
   ],
   "source": [
    "master_frame = master_frame.drop(['permalink','name','homepage_url','status','state_code','region','city','funding_round_permalink','funding_round_code','founded_at','funded_at'], axis=1)\n",
    "master_frame.info()"
   ]
  },
  {
   "cell_type": "markdown",
   "metadata": {},
   "source": [
    "# Funding Type Analysis"
   ]
  },
  {
   "cell_type": "code",
   "execution_count": 21,
   "metadata": {
    "scrolled": true
   },
   "outputs": [
    {
     "data": {
      "text/html": [
       "<div>\n",
       "<style scoped>\n",
       "    .dataframe tbody tr th:only-of-type {\n",
       "        vertical-align: middle;\n",
       "    }\n",
       "\n",
       "    .dataframe tbody tr th {\n",
       "        vertical-align: top;\n",
       "    }\n",
       "\n",
       "    .dataframe thead th {\n",
       "        text-align: right;\n",
       "    }\n",
       "</style>\n",
       "<table border=\"1\" class=\"dataframe\">\n",
       "  <thead>\n",
       "    <tr style=\"text-align: right;\">\n",
       "      <th></th>\n",
       "      <th>count</th>\n",
       "      <th>mean</th>\n",
       "      <th>std</th>\n",
       "      <th>min</th>\n",
       "      <th>25%</th>\n",
       "      <th>50%</th>\n",
       "      <th>75%</th>\n",
       "      <th>max</th>\n",
       "    </tr>\n",
       "    <tr>\n",
       "      <th>funding_round_type</th>\n",
       "      <th></th>\n",
       "      <th></th>\n",
       "      <th></th>\n",
       "      <th></th>\n",
       "      <th></th>\n",
       "      <th></th>\n",
       "      <th></th>\n",
       "      <th></th>\n",
       "    </tr>\n",
       "  </thead>\n",
       "  <tbody>\n",
       "    <tr>\n",
       "      <th>angel</th>\n",
       "      <td>4829.00</td>\n",
       "      <td>964848.86</td>\n",
       "      <td>7427730.66</td>\n",
       "      <td>12.00</td>\n",
       "      <td>150000.00</td>\n",
       "      <td>400000.00</td>\n",
       "      <td>1000000.00</td>\n",
       "      <td>494511992.00</td>\n",
       "    </tr>\n",
       "    <tr>\n",
       "      <th>convertible_note</th>\n",
       "      <td>1423.00</td>\n",
       "      <td>1477951.91</td>\n",
       "      <td>8109207.56</td>\n",
       "      <td>30.00</td>\n",
       "      <td>83331.00</td>\n",
       "      <td>300000.00</td>\n",
       "      <td>1000000.00</td>\n",
       "      <td>185048285.00</td>\n",
       "    </tr>\n",
       "    <tr>\n",
       "      <th>debt_financing</th>\n",
       "      <td>6656.00</td>\n",
       "      <td>17110102.30</td>\n",
       "      <td>280865377.60</td>\n",
       "      <td>100.00</td>\n",
       "      <td>340445.25</td>\n",
       "      <td>1100000.00</td>\n",
       "      <td>4000000.00</td>\n",
       "      <td>21271935000.00</td>\n",
       "    </tr>\n",
       "    <tr>\n",
       "      <th>equity_crowdfunding</th>\n",
       "      <td>1046.00</td>\n",
       "      <td>632042.22</td>\n",
       "      <td>1847071.26</td>\n",
       "      <td>5.00</td>\n",
       "      <td>35000.00</td>\n",
       "      <td>157637.50</td>\n",
       "      <td>500000.00</td>\n",
       "      <td>27400000.00</td>\n",
       "    </tr>\n",
       "    <tr>\n",
       "      <th>grant</th>\n",
       "      <td>2122.00</td>\n",
       "      <td>4304629.66</td>\n",
       "      <td>25599144.21</td>\n",
       "      <td>300.00</td>\n",
       "      <td>50000.00</td>\n",
       "      <td>205200.00</td>\n",
       "      <td>1700000.00</td>\n",
       "      <td>750000000.00</td>\n",
       "    </tr>\n",
       "    <tr>\n",
       "      <th>non_equity_assistance</th>\n",
       "      <td>70.00</td>\n",
       "      <td>428826.04</td>\n",
       "      <td>1807734.41</td>\n",
       "      <td>2.00</td>\n",
       "      <td>27000.00</td>\n",
       "      <td>60000.00</td>\n",
       "      <td>170400.50</td>\n",
       "      <td>15000000.00</td>\n",
       "    </tr>\n",
       "    <tr>\n",
       "      <th>post_ipo_debt</th>\n",
       "      <td>152.00</td>\n",
       "      <td>168704571.82</td>\n",
       "      <td>602473804.43</td>\n",
       "      <td>70000.00</td>\n",
       "      <td>4000000.00</td>\n",
       "      <td>19950000.00</td>\n",
       "      <td>60000000.00</td>\n",
       "      <td>5800000000.00</td>\n",
       "    </tr>\n",
       "    <tr>\n",
       "      <th>post_ipo_equity</th>\n",
       "      <td>628.00</td>\n",
       "      <td>82182493.87</td>\n",
       "      <td>469188915.85</td>\n",
       "      <td>77.00</td>\n",
       "      <td>3764794.00</td>\n",
       "      <td>12262852.50</td>\n",
       "      <td>40000000.00</td>\n",
       "      <td>10664943639.00</td>\n",
       "    </tr>\n",
       "    <tr>\n",
       "      <th>private_equity</th>\n",
       "      <td>1933.00</td>\n",
       "      <td>73422367.36</td>\n",
       "      <td>198246135.05</td>\n",
       "      <td>6.00</td>\n",
       "      <td>5000000.00</td>\n",
       "      <td>20000000.00</td>\n",
       "      <td>75000000.00</td>\n",
       "      <td>4745460219.00</td>\n",
       "    </tr>\n",
       "    <tr>\n",
       "      <th>product_crowdfunding</th>\n",
       "      <td>382.00</td>\n",
       "      <td>1377404.69</td>\n",
       "      <td>4720891.50</td>\n",
       "      <td>1.00</td>\n",
       "      <td>43352.25</td>\n",
       "      <td>195906.00</td>\n",
       "      <td>740000.00</td>\n",
       "      <td>52000000.00</td>\n",
       "    </tr>\n",
       "    <tr>\n",
       "      <th>secondary_market</th>\n",
       "      <td>30.00</td>\n",
       "      <td>79649630.10</td>\n",
       "      <td>140103760.22</td>\n",
       "      <td>2323.00</td>\n",
       "      <td>5025000.00</td>\n",
       "      <td>32600000.00</td>\n",
       "      <td>84475000.00</td>\n",
       "      <td>680611554.00</td>\n",
       "    </tr>\n",
       "    <tr>\n",
       "      <th>seed</th>\n",
       "      <td>23508.00</td>\n",
       "      <td>722726.91</td>\n",
       "      <td>2225745.42</td>\n",
       "      <td>1.00</td>\n",
       "      <td>59110.75</td>\n",
       "      <td>280000.00</td>\n",
       "      <td>1000000.00</td>\n",
       "      <td>200000000.00</td>\n",
       "    </tr>\n",
       "    <tr>\n",
       "      <th>undisclosed</th>\n",
       "      <td>1566.00</td>\n",
       "      <td>19438971.71</td>\n",
       "      <td>200330581.37</td>\n",
       "      <td>5.00</td>\n",
       "      <td>235204.00</td>\n",
       "      <td>1065623.50</td>\n",
       "      <td>5000000.00</td>\n",
       "      <td>5000000000.00</td>\n",
       "    </tr>\n",
       "    <tr>\n",
       "      <th>venture</th>\n",
       "      <td>50199.00</td>\n",
       "      <td>11755736.51</td>\n",
       "      <td>86376544.40</td>\n",
       "      <td>1.00</td>\n",
       "      <td>1610000.00</td>\n",
       "      <td>5000000.00</td>\n",
       "      <td>12000000.00</td>\n",
       "      <td>17600000000.00</td>\n",
       "    </tr>\n",
       "  </tbody>\n",
       "</table>\n",
       "</div>"
      ],
      "text/plain": [
       "                         count         mean          std      min        25%  \\\n",
       "funding_round_type                                                             \n",
       "angel                  4829.00    964848.86   7427730.66    12.00  150000.00   \n",
       "convertible_note       1423.00   1477951.91   8109207.56    30.00   83331.00   \n",
       "debt_financing         6656.00  17110102.30 280865377.60   100.00  340445.25   \n",
       "equity_crowdfunding    1046.00    632042.22   1847071.26     5.00   35000.00   \n",
       "grant                  2122.00   4304629.66  25599144.21   300.00   50000.00   \n",
       "non_equity_assistance    70.00    428826.04   1807734.41     2.00   27000.00   \n",
       "post_ipo_debt           152.00 168704571.82 602473804.43 70000.00 4000000.00   \n",
       "post_ipo_equity         628.00  82182493.87 469188915.85    77.00 3764794.00   \n",
       "private_equity         1933.00  73422367.36 198246135.05     6.00 5000000.00   \n",
       "product_crowdfunding    382.00   1377404.69   4720891.50     1.00   43352.25   \n",
       "secondary_market         30.00  79649630.10 140103760.22  2323.00 5025000.00   \n",
       "seed                  23508.00    722726.91   2225745.42     1.00   59110.75   \n",
       "undisclosed            1566.00  19438971.71 200330581.37     5.00  235204.00   \n",
       "venture               50199.00  11755736.51  86376544.40     1.00 1610000.00   \n",
       "\n",
       "                              50%         75%            max  \n",
       "funding_round_type                                            \n",
       "angel                   400000.00  1000000.00   494511992.00  \n",
       "convertible_note        300000.00  1000000.00   185048285.00  \n",
       "debt_financing         1100000.00  4000000.00 21271935000.00  \n",
       "equity_crowdfunding     157637.50   500000.00    27400000.00  \n",
       "grant                   205200.00  1700000.00   750000000.00  \n",
       "non_equity_assistance    60000.00   170400.50    15000000.00  \n",
       "post_ipo_debt         19950000.00 60000000.00  5800000000.00  \n",
       "post_ipo_equity       12262852.50 40000000.00 10664943639.00  \n",
       "private_equity        20000000.00 75000000.00  4745460219.00  \n",
       "product_crowdfunding    195906.00   740000.00    52000000.00  \n",
       "secondary_market      32600000.00 84475000.00   680611554.00  \n",
       "seed                    280000.00  1000000.00   200000000.00  \n",
       "undisclosed            1065623.50  5000000.00  5000000000.00  \n",
       "venture                5000000.00 12000000.00 17600000000.00  "
      ]
     },
     "execution_count": 21,
     "metadata": {},
     "output_type": "execute_result"
    }
   ],
   "source": [
    "# Check the distribution of values in raised_amount_usd column by each funding round type\n",
    "master_frame.groupby('funding_round_type')['raised_amount_usd'].describe()"
   ]
  },
  {
   "cell_type": "markdown",
   "metadata": {},
   "source": [
    "### Representative metric\n",
    "We can observe that there is significant difference in the values of mean and median, and std is also high\n",
    "\n",
    "The data we have is skewed, as we have already seen that we have natural outliers in the raised_amount_usd column.\n",
    "Hence, we will go with median as our representative value of the investment amount "
   ]
  },
  {
   "cell_type": "code",
   "execution_count": 22,
   "metadata": {},
   "outputs": [
    {
     "data": {
      "image/png": "[encoded data removed]",
      "text/plain": [
       "<Figure size 1080x576 with 1 Axes>"
      ]
     },
     "metadata": {
      "needs_background": "light"
     },
     "output_type": "display_data"
    }
   ],
   "source": [
    "# box plot to visualize spread of investment amount in each funding type\n",
    "plt.figure(figsize=[15,8])\n",
    "plt.axhspan(5000000, 15000000, alpha=0.3)\n",
    "sns.boxplot(x='funding_round_type', y='raised_amount_usd', data=master_frame)\n",
    "# Changed the y-axis to a log scale to allow a bigger range of values to be displayed \n",
    "plt.yscale('log')"
   ]
  },
  {
   "cell_type": "markdown",
   "metadata": {},
   "source": [
    "### Analyzing on seed, angel, venture, private_equity\n",
    "Since we are concernred with only 4 funding types(venture, angel, seed, and private equity), Let us visualize the median amount of investment in each of these types "
   ]
  },
  {
   "cell_type": "code",
   "execution_count": 23,
   "metadata": {
    "scrolled": false
   },
   "outputs": [
    {
     "data": {
      "image/png": "[encoded data removed]",
      "text/plain": [
       "<Figure size 864x576 with 1 Axes>"
      ]
     },
     "metadata": {
      "needs_background": "light"
     },
     "output_type": "display_data"
    }
   ],
   "source": [
    "master_frame_4_plot = master_frame[master_frame['funding_round_type'].isin(['seed','angel','venture','private_equity'])]\n",
    "plt.figure(figsize=[12,8])\n",
    "plt.axhspan(5000000, 15000000, alpha=0.3)\n",
    "sns.barplot(x='funding_round_type', y='raised_amount_usd', data=master_frame_4_plot, estimator=np.median, log=True)\n",
    "plt.show()"
   ]
  },
  {
   "cell_type": "code",
   "execution_count": 24,
   "metadata": {},
   "outputs": [
    {
     "data": {
      "text/plain": [
       "funding_round_type\n",
       "venture                  16598\n",
       "debt_financing             870\n",
       "private_equity             429\n",
       "undisclosed                226\n",
       "seed                       203\n",
       "grant                      173\n",
       "post_ipo_equity            152\n",
       "angel                       72\n",
       "convertible_note            48\n",
       "post_ipo_debt               34\n",
       "equity_crowdfunding         23\n",
       "product_crowdfunding        15\n",
       "secondary_market             4\n",
       "non_equity_assistance        1\n",
       "dtype: int64"
      ]
     },
     "execution_count": 24,
     "metadata": {},
     "output_type": "execute_result"
    }
   ],
   "source": [
    "# count number of investments in each funding type with amount between $5-15M\n",
    "funding_counts = master_frame[(master_frame['raised_amount_usd'] >=5000000) & \n",
    "             (master_frame['raised_amount_usd'] <=15000000)].groupby('funding_round_type').size()\n",
    "funding_counts.sort_values(ascending=False)"
   ]
  },
  {
   "cell_type": "code",
   "execution_count": 25,
   "metadata": {},
   "outputs": [
    {
     "data": {
      "image/png": "[encoded data removed]",
      "text/plain": [
       "<Figure size 864x576 with 1 Axes>"
      ]
     },
     "metadata": {},
     "output_type": "display_data"
    }
   ],
   "source": [
    "# pie chart to see the percentage distribution in number of investments in each funding type\n",
    "plt.figure(figsize=[12,8])\n",
    "plt.pie(funding_counts, labels=funding_counts.index, autopct='%1.1f%%')\n",
    "plt.title('Number of Investments within $5-15M for each funding type')\n",
    "plt.show()"
   ]
  },
  {
   "cell_type": "code",
   "execution_count": 38,
   "metadata": {},
   "outputs": [
    {
     "data": {
      "image/png": "[encoded data removed]",
      "text/plain": [
       "<Figure size 864x576 with 1 Axes>"
      ]
     },
     "metadata": {
      "needs_background": "light"
     },
     "output_type": "display_data"
    }
   ],
   "source": [
    "# total amount of investment in each funding type\n",
    "plt.figure(figsize=[12,8])\n",
    "funding_amounts = master_frame[(master_frame['raised_amount_usd'] >=5000000) & \n",
    "             (master_frame['raised_amount_usd'] <=15000000)]\n",
    "sns.barplot(data=funding_amounts, x='funding_round_type', y='raised_amount_usd', estimator=np.sum, log=True)\n",
    "plt.show()"
   ]
  },
  {
   "cell_type": "markdown",
   "metadata": {},
   "source": [
    "### Observations\n",
    "We can see the both the mean and median values of the funding type **venture** satisfy the investment criteria of Spark Funds(5-15 M dollars).\n",
    "\n",
    "Also, from the pie chart we can see that funding type 'venture' has most number of  investments within the 5-15M dollar range.\n",
    "From the bar chart we see 'venture' has highest total amount of investment with each investment amount being between $5-15M\n",
    "\n",
    "Based on all these obversations, we can conlcude that **Venture** investment type will the most suitable for Spark Funds"
   ]
  },
  {
   "cell_type": "markdown",
   "metadata": {},
   "source": [
    "# Country Analysis\n",
    "\n",
    "Firstly, we will clean the data by removing rows containing missing values in country_code and category_list columns"
   ]
  },
  {
   "cell_type": "code",
   "execution_count": 26,
   "metadata": {},
   "outputs": [
    {
     "name": "stdout",
     "output_type": "stream",
     "text": [
      "category_list        1.08\n",
      "country_code         6.15\n",
      "company_permalink    0.00\n",
      "funding_round_type   0.00\n",
      "raised_amount_usd    0.00\n",
      "dtype: float64\n"
     ]
    }
   ],
   "source": [
    "# let us come back to null values\n",
    "print(100*master_frame.isnull().sum()/len(master_frame.index))"
   ]
  },
  {
   "cell_type": "code",
   "execution_count": 27,
   "metadata": {},
   "outputs": [
    {
     "data": {
      "text/plain": [
       "USA   65.33\n",
       "GBR    5.30\n",
       "CAN    2.75\n",
       "CHN    2.04\n",
       "IND    1.73\n",
       "       ... \n",
       "TGO    0.00\n",
       "DMA    0.00\n",
       "KNA    0.00\n",
       "SYC    0.00\n",
       "DZA    0.00\n",
       "Name: country_code, Length: 134, dtype: float64"
      ]
     },
     "execution_count": 27,
     "metadata": {},
     "output_type": "execute_result"
    }
   ],
   "source": [
    "# percentage of rows for each country code\n",
    "master_frame['country_code'].value_counts()*100/len(master_frame.index)"
   ]
  },
  {
   "cell_type": "markdown",
   "metadata": {},
   "source": [
    "### Observations\n",
    "We see that 65% of the data is for country_code USA. \n",
    "\n",
    "If we replace the missing values with USA, it will further increase the skewness of the data. \n",
    "Hence, it is better to drop the rows"
   ]
  },
  {
   "cell_type": "code",
   "execution_count": 28,
   "metadata": {},
   "outputs": [
    {
     "name": "stdout",
     "output_type": "stream",
     "text": [
      "category_list        0.63\n",
      "country_code         0.00\n",
      "company_permalink    0.00\n",
      "funding_round_type   0.00\n",
      "raised_amount_usd    0.00\n",
      "dtype: float64\n"
     ]
    }
   ],
   "source": [
    "master_frame = master_frame[~master_frame['country_code'].isnull()]\n",
    "print(100*master_frame.isnull().sum()/len(master_frame.index))"
   ]
  },
  {
   "cell_type": "markdown",
   "metadata": {},
   "source": [
    "#### There are very few rows with missing category_list. We should drop them as well"
   ]
  },
  {
   "cell_type": "code",
   "execution_count": 29,
   "metadata": {},
   "outputs": [
    {
     "name": "stdout",
     "output_type": "stream",
     "text": [
      "76.70010178426955\n"
     ]
    }
   ],
   "source": [
    "master_frame = master_frame[~master_frame['category_list'].isnull()]\n",
    "\n",
    "# Amount of rows retained\n",
    "print(100*(len(master_frame.index)/114949))"
   ]
  },
  {
   "cell_type": "code",
   "execution_count": 30,
   "metadata": {},
   "outputs": [
    {
     "data": {
      "text/html": [
       "<div>\n",
       "<style scoped>\n",
       "    .dataframe tbody tr th:only-of-type {\n",
       "        vertical-align: middle;\n",
       "    }\n",
       "\n",
       "    .dataframe tbody tr th {\n",
       "        vertical-align: top;\n",
       "    }\n",
       "\n",
       "    .dataframe thead th {\n",
       "        text-align: right;\n",
       "    }\n",
       "</style>\n",
       "<table border=\"1\" class=\"dataframe\">\n",
       "  <thead>\n",
       "    <tr style=\"text-align: right;\">\n",
       "      <th></th>\n",
       "      <th>Country</th>\n",
       "      <th>Alpha-3 code</th>\n",
       "    </tr>\n",
       "  </thead>\n",
       "  <tbody>\n",
       "    <tr>\n",
       "      <th>0</th>\n",
       "      <td>Afghanistan</td>\n",
       "      <td>AFG</td>\n",
       "    </tr>\n",
       "    <tr>\n",
       "      <th>1</th>\n",
       "      <td>Åland Islands</td>\n",
       "      <td>ALA</td>\n",
       "    </tr>\n",
       "    <tr>\n",
       "      <th>2</th>\n",
       "      <td>Albania</td>\n",
       "      <td>ALB</td>\n",
       "    </tr>\n",
       "    <tr>\n",
       "      <th>3</th>\n",
       "      <td>Algeria</td>\n",
       "      <td>DZA</td>\n",
       "    </tr>\n",
       "    <tr>\n",
       "      <th>4</th>\n",
       "      <td>American Samoa</td>\n",
       "      <td>ASM</td>\n",
       "    </tr>\n",
       "  </tbody>\n",
       "</table>\n",
       "</div>"
      ],
      "text/plain": [
       "          Country Alpha-3 code\n",
       "0     Afghanistan          AFG\n",
       "1   Åland Islands          ALA\n",
       "2         Albania          ALB\n",
       "3         Algeria          DZA\n",
       "4  American Samoa          ASM"
      ]
     },
     "execution_count": 30,
     "metadata": {},
     "output_type": "execute_result"
    }
   ],
   "source": [
    "# Download the country code data from iban webpage\n",
    "country_code = pd.read_html('https://www.iban.com/country-codes')\n",
    "country_code_df = country_code[0][['Country','Alpha-3 code']]\n",
    "country_code_df.head()"
   ]
  },
  {
   "cell_type": "code",
   "execution_count": 31,
   "metadata": {},
   "outputs": [
    {
     "data": {
      "text/plain": [
       "{'BAH', 'ROM', 'TAN'}"
      ]
     },
     "execution_count": 31,
     "metadata": {},
     "output_type": "execute_result"
    }
   ],
   "source": [
    "# check for country codes that are not present in the alpha3 list \n",
    "set(master_frame['country_code']) - set(country_code_df['Alpha-3 code'])"
   ]
  },
  {
   "cell_type": "markdown",
   "metadata": {},
   "source": [
    "### Country code analysis\n",
    "Upon manually checking, i see that the country code for these 3 countries have been changed:\n",
    "\n",
    "Bahamas: BAH -> BHS\n",
    "\n",
    "Romania: ROM -> ROU\n",
    "\n",
    "Tanzania: TAN -> TZA\n",
    "\n",
    "Let us check if the new codes are present in the column to avoid duplicates "
   ]
  },
  {
   "cell_type": "code",
   "execution_count": 31,
   "metadata": {},
   "outputs": [
    {
     "data": {
      "text/plain": [
       "(False, False, False)"
      ]
     },
     "execution_count": 31,
     "metadata": {},
     "output_type": "execute_result"
    }
   ],
   "source": [
    "'BHS' in set(master_frame['country_code']), 'ROU' in set(master_frame['country_code']), 'TZA' in set(master_frame['country_code'])"
   ]
  },
  {
   "cell_type": "markdown",
   "metadata": {},
   "source": [
    "The data contains no duplicate country codes. We are safe to proceed\n",
    "\n",
    "### Top 9 countries with highest total investment\n",
    "\n",
    "Now, let us find the top nine countries based on the total investment amount each country has received"
   ]
  },
  {
   "cell_type": "code",
   "execution_count": 39,
   "metadata": {
    "scrolled": true
   },
   "outputs": [
    {
     "data": {
      "text/html": [
       "<div>\n",
       "<style scoped>\n",
       "    .dataframe tbody tr th:only-of-type {\n",
       "        vertical-align: middle;\n",
       "    }\n",
       "\n",
       "    .dataframe tbody tr th {\n",
       "        vertical-align: top;\n",
       "    }\n",
       "\n",
       "    .dataframe thead th {\n",
       "        text-align: right;\n",
       "    }\n",
       "</style>\n",
       "<table border=\"1\" class=\"dataframe\">\n",
       "  <thead>\n",
       "    <tr style=\"text-align: right;\">\n",
       "      <th></th>\n",
       "      <th>country_code</th>\n",
       "      <th>raised_amount_usd</th>\n",
       "    </tr>\n",
       "  </thead>\n",
       "  <tbody>\n",
       "    <tr>\n",
       "      <th>0</th>\n",
       "      <td>USA</td>\n",
       "      <td>420068029342.00</td>\n",
       "    </tr>\n",
       "    <tr>\n",
       "      <th>1</th>\n",
       "      <td>CHN</td>\n",
       "      <td>39338918773.00</td>\n",
       "    </tr>\n",
       "    <tr>\n",
       "      <th>2</th>\n",
       "      <td>GBR</td>\n",
       "      <td>20072813004.00</td>\n",
       "    </tr>\n",
       "    <tr>\n",
       "      <th>3</th>\n",
       "      <td>IND</td>\n",
       "      <td>14261508718.00</td>\n",
       "    </tr>\n",
       "    <tr>\n",
       "      <th>4</th>\n",
       "      <td>CAN</td>\n",
       "      <td>9482217668.00</td>\n",
       "    </tr>\n",
       "    <tr>\n",
       "      <th>5</th>\n",
       "      <td>FRA</td>\n",
       "      <td>7226851352.00</td>\n",
       "    </tr>\n",
       "    <tr>\n",
       "      <th>6</th>\n",
       "      <td>ISR</td>\n",
       "      <td>6854350477.00</td>\n",
       "    </tr>\n",
       "    <tr>\n",
       "      <th>7</th>\n",
       "      <td>DEU</td>\n",
       "      <td>6306921981.00</td>\n",
       "    </tr>\n",
       "    <tr>\n",
       "      <th>8</th>\n",
       "      <td>JPN</td>\n",
       "      <td>3167647127.00</td>\n",
       "    </tr>\n",
       "  </tbody>\n",
       "</table>\n",
       "</div>"
      ],
      "text/plain": [
       "  country_code  raised_amount_usd\n",
       "0          USA    420068029342.00\n",
       "1          CHN     39338918773.00\n",
       "2          GBR     20072813004.00\n",
       "3          IND     14261508718.00\n",
       "4          CAN      9482217668.00\n",
       "5          FRA      7226851352.00\n",
       "6          ISR      6854350477.00\n",
       "7          DEU      6306921981.00\n",
       "8          JPN      3167647127.00"
      ]
     },
     "execution_count": 39,
     "metadata": {},
     "output_type": "execute_result"
    }
   ],
   "source": [
    "# filter the dataframe by venture type and take the sum of investment amounts\n",
    "top9 = master_frame[master_frame['funding_round_type']=='venture'].groupby('country_code')['raised_amount_usd'].sum()\n",
    "top9 = top9.sort_values(ascending=False).iloc[0:9]\n",
    "top9 = top9.to_frame().reset_index()\n",
    "top9"
   ]
  },
  {
   "cell_type": "code",
   "execution_count": 40,
   "metadata": {},
   "outputs": [
    {
     "data": {
      "image/png": "[encoded data removed]",
      "text/plain": [
       "<Figure size 720x504 with 1 Axes>"
      ]
     },
     "metadata": {
      "needs_background": "light"
     },
     "output_type": "display_data"
    }
   ],
   "source": [
    "plt.figure(figsize=[10,7])\n",
    "sns.barplot(data=top9, x='country_code', y='raised_amount_usd', log=True)\n",
    "for i, v in enumerate(top9['raised_amount_usd']):\n",
    "    plt.text(i-0.4, v, str(v))\n",
    "plt.show()"
   ]
  },
  {
   "cell_type": "markdown",
   "metadata": {},
   "source": [
    "## Identify the top three English-speaking countries\n",
    "\n",
    "From this graph, we will manually pick top 3 english speaking countries with received the highest total funding \n",
    "\n",
    "United States (USA)\n",
    "\n",
    "United Kingdom (GBR)\n",
    "\n",
    "India (IND)"
   ]
  },
  {
   "cell_type": "code",
   "execution_count": 41,
   "metadata": {},
   "outputs": [
    {
     "data": {
      "image/png": "[encoded data removed]",
      "text/plain": [
       "<Figure size 864x576 with 1 Axes>"
      ]
     },
     "metadata": {
      "needs_background": "light"
     },
     "output_type": "display_data"
    }
   ],
   "source": [
    "# plot for percentage of total investment done in each funding type in top3 countries\n",
    "top3_pt = pd.pivot_table(master_frame[master_frame['country_code'].isin(['USA','GBR','IND'])], \n",
    "                       index='country_code', values='raised_amount_usd', columns='funding_round_type', \n",
    "                         aggfunc='sum').apply(lambda x: x/x.sum(), axis=1)\n",
    "top3_pt.plot(kind='bar', stacked='True', figsize=[12,8])\n",
    "plt.show()"
   ]
  },
  {
   "cell_type": "markdown",
   "metadata": {},
   "source": [
    "### Observation\n",
    "We can now confirm that the top 3 countries chosen by us have the highest investment as Venture type"
   ]
  },
  {
   "cell_type": "markdown",
   "metadata": {},
   "source": [
    "## Sector Analysis"
   ]
  },
  {
   "cell_type": "code",
   "execution_count": 42,
   "metadata": {},
   "outputs": [
    {
     "data": {
      "text/html": [
       "<div>\n",
       "<style scoped>\n",
       "    .dataframe tbody tr th:only-of-type {\n",
       "        vertical-align: middle;\n",
       "    }\n",
       "\n",
       "    .dataframe tbody tr th {\n",
       "        vertical-align: top;\n",
       "    }\n",
       "\n",
       "    .dataframe thead th {\n",
       "        text-align: right;\n",
       "    }\n",
       "</style>\n",
       "<table border=\"1\" class=\"dataframe\">\n",
       "  <thead>\n",
       "    <tr style=\"text-align: right;\">\n",
       "      <th></th>\n",
       "      <th>category_list</th>\n",
       "      <th>Automotive &amp; Sports</th>\n",
       "      <th>Blanks</th>\n",
       "      <th>Cleantech / Semiconductors</th>\n",
       "      <th>Entertainment</th>\n",
       "      <th>Health</th>\n",
       "      <th>Manufacturing</th>\n",
       "      <th>News, Search and Messaging</th>\n",
       "      <th>Others</th>\n",
       "      <th>Social, Finance, Analytics, Advertising</th>\n",
       "    </tr>\n",
       "  </thead>\n",
       "  <tbody>\n",
       "    <tr>\n",
       "      <th>0</th>\n",
       "      <td>NaN</td>\n",
       "      <td>0</td>\n",
       "      <td>1</td>\n",
       "      <td>0</td>\n",
       "      <td>0</td>\n",
       "      <td>0</td>\n",
       "      <td>0</td>\n",
       "      <td>0</td>\n",
       "      <td>0</td>\n",
       "      <td>0</td>\n",
       "    </tr>\n",
       "    <tr>\n",
       "      <th>1</th>\n",
       "      <td>3D</td>\n",
       "      <td>0</td>\n",
       "      <td>0</td>\n",
       "      <td>0</td>\n",
       "      <td>0</td>\n",
       "      <td>0</td>\n",
       "      <td>1</td>\n",
       "      <td>0</td>\n",
       "      <td>0</td>\n",
       "      <td>0</td>\n",
       "    </tr>\n",
       "    <tr>\n",
       "      <th>2</th>\n",
       "      <td>3D Printing</td>\n",
       "      <td>0</td>\n",
       "      <td>0</td>\n",
       "      <td>0</td>\n",
       "      <td>0</td>\n",
       "      <td>0</td>\n",
       "      <td>1</td>\n",
       "      <td>0</td>\n",
       "      <td>0</td>\n",
       "      <td>0</td>\n",
       "    </tr>\n",
       "    <tr>\n",
       "      <th>3</th>\n",
       "      <td>3D Technology</td>\n",
       "      <td>0</td>\n",
       "      <td>0</td>\n",
       "      <td>0</td>\n",
       "      <td>0</td>\n",
       "      <td>0</td>\n",
       "      <td>1</td>\n",
       "      <td>0</td>\n",
       "      <td>0</td>\n",
       "      <td>0</td>\n",
       "    </tr>\n",
       "    <tr>\n",
       "      <th>4</th>\n",
       "      <td>Accounting</td>\n",
       "      <td>0</td>\n",
       "      <td>0</td>\n",
       "      <td>0</td>\n",
       "      <td>0</td>\n",
       "      <td>0</td>\n",
       "      <td>0</td>\n",
       "      <td>0</td>\n",
       "      <td>0</td>\n",
       "      <td>1</td>\n",
       "    </tr>\n",
       "  </tbody>\n",
       "</table>\n",
       "</div>"
      ],
      "text/plain": [
       "   category_list  Automotive & Sports  Blanks  Cleantech / Semiconductors  \\\n",
       "0            NaN                    0       1                           0   \n",
       "1             3D                    0       0                           0   \n",
       "2    3D Printing                    0       0                           0   \n",
       "3  3D Technology                    0       0                           0   \n",
       "4     Accounting                    0       0                           0   \n",
       "\n",
       "   Entertainment  Health  Manufacturing  News, Search and Messaging  Others  \\\n",
       "0              0       0              0                           0       0   \n",
       "1              0       0              1                           0       0   \n",
       "2              0       0              1                           0       0   \n",
       "3              0       0              1                           0       0   \n",
       "4              0       0              0                           0       0   \n",
       "\n",
       "   Social, Finance, Analytics, Advertising  \n",
       "0                                        0  \n",
       "1                                        0  \n",
       "2                                        0  \n",
       "3                                        0  \n",
       "4                                        1  "
      ]
     },
     "execution_count": 42,
     "metadata": {},
     "output_type": "execute_result"
    }
   ],
   "source": [
    "# Load the mapping dataset\n",
    "cat_mapping_df = pd.read_csv('mapping.csv')\n",
    "cat_mapping_df.head()"
   ]
  },
  {
   "cell_type": "code",
   "execution_count": 43,
   "metadata": {},
   "outputs": [
    {
     "data": {
      "text/html": [
       "<div>\n",
       "<style scoped>\n",
       "    .dataframe tbody tr th:only-of-type {\n",
       "        vertical-align: middle;\n",
       "    }\n",
       "\n",
       "    .dataframe tbody tr th {\n",
       "        vertical-align: top;\n",
       "    }\n",
       "\n",
       "    .dataframe thead th {\n",
       "        text-align: right;\n",
       "    }\n",
       "</style>\n",
       "<table border=\"1\" class=\"dataframe\">\n",
       "  <thead>\n",
       "    <tr style=\"text-align: right;\">\n",
       "      <th></th>\n",
       "      <th>category_list</th>\n",
       "      <th>Automotive &amp; Sports</th>\n",
       "      <th>Blanks</th>\n",
       "      <th>Cleantech / Semiconductors</th>\n",
       "      <th>Entertainment</th>\n",
       "      <th>Health</th>\n",
       "      <th>Manufacturing</th>\n",
       "      <th>News, Search and Messaging</th>\n",
       "      <th>Others</th>\n",
       "      <th>Social, Finance, Analytics, Advertising</th>\n",
       "    </tr>\n",
       "  </thead>\n",
       "  <tbody>\n",
       "  </tbody>\n",
       "</table>\n",
       "</div>"
      ],
      "text/plain": [
       "Empty DataFrame\n",
       "Columns: [category_list, Automotive & Sports, Blanks, Cleantech / Semiconductors, Entertainment, Health, Manufacturing, News, Search and Messaging, Others, Social, Finance, Analytics, Advertising]\n",
       "Index: []"
      ]
     },
     "execution_count": 43,
     "metadata": {},
     "output_type": "execute_result"
    }
   ],
   "source": [
    "# Check if rows contain more than one 1 entries\n",
    "cat_mapping_df[cat_mapping_df.sum(axis=1)>1]"
   ]
  },
  {
   "cell_type": "code",
   "execution_count": 44,
   "metadata": {},
   "outputs": [
    {
     "data": {
      "text/plain": [
       "category_list                              1\n",
       "Automotive & Sports                        0\n",
       "Blanks                                     0\n",
       "Cleantech / Semiconductors                 0\n",
       "Entertainment                              0\n",
       "Health                                     0\n",
       "Manufacturing                              0\n",
       "News, Search and Messaging                 0\n",
       "Others                                     0\n",
       "Social, Finance, Analytics, Advertising    0\n",
       "dtype: int64"
      ]
     },
     "execution_count": 44,
     "metadata": {},
     "output_type": "execute_result"
    }
   ],
   "source": [
    "# Check for missing values\n",
    "cat_mapping_df.isnull().sum()"
   ]
  },
  {
   "cell_type": "code",
   "execution_count": 45,
   "metadata": {},
   "outputs": [
    {
     "name": "stdout",
     "output_type": "stream",
     "text": [
      "<class 'pandas.core.frame.DataFrame'>\n",
      "Int64Index: 687 entries, 1 to 687\n",
      "Data columns (total 10 columns):\n",
      " #   Column                                   Non-Null Count  Dtype \n",
      "---  ------                                   --------------  ----- \n",
      " 0   category_list                            687 non-null    object\n",
      " 1   Automotive & Sports                      687 non-null    int64 \n",
      " 2   Blanks                                   687 non-null    int64 \n",
      " 3   Cleantech / Semiconductors               687 non-null    int64 \n",
      " 4   Entertainment                            687 non-null    int64 \n",
      " 5   Health                                   687 non-null    int64 \n",
      " 6   Manufacturing                            687 non-null    int64 \n",
      " 7   News, Search and Messaging               687 non-null    int64 \n",
      " 8   Others                                   687 non-null    int64 \n",
      " 9   Social, Finance, Analytics, Advertising  687 non-null    int64 \n",
      "dtypes: int64(9), object(1)\n",
      "memory usage: 59.0+ KB\n"
     ]
    }
   ],
   "source": [
    "# Drop the rows with missing values\n",
    "cat_mapping_df = cat_mapping_df[~cat_mapping_df['category_list'].isnull()]\n",
    "cat_mapping_df.info()"
   ]
  },
  {
   "cell_type": "markdown",
   "metadata": {},
   "source": [
    "### Column Transformation\n",
    "Transfrom the 8 main sectors to a single column"
   ]
  },
  {
   "cell_type": "code",
   "execution_count": 46,
   "metadata": {},
   "outputs": [
    {
     "data": {
      "text/html": [
       "<div>\n",
       "<style scoped>\n",
       "    .dataframe tbody tr th:only-of-type {\n",
       "        vertical-align: middle;\n",
       "    }\n",
       "\n",
       "    .dataframe tbody tr th {\n",
       "        vertical-align: top;\n",
       "    }\n",
       "\n",
       "    .dataframe thead th {\n",
       "        text-align: right;\n",
       "    }\n",
       "</style>\n",
       "<table border=\"1\" class=\"dataframe\">\n",
       "  <thead>\n",
       "    <tr style=\"text-align: right;\">\n",
       "      <th></th>\n",
       "      <th>category_list</th>\n",
       "      <th>main_sector</th>\n",
       "    </tr>\n",
       "  </thead>\n",
       "  <tbody>\n",
       "    <tr>\n",
       "      <th>0</th>\n",
       "      <td>Adventure Travel</td>\n",
       "      <td>Automotive &amp; Sports</td>\n",
       "    </tr>\n",
       "    <tr>\n",
       "      <th>1</th>\n",
       "      <td>Aerospace</td>\n",
       "      <td>Automotive &amp; Sports</td>\n",
       "    </tr>\n",
       "    <tr>\n",
       "      <th>2</th>\n",
       "      <td>Auto</td>\n",
       "      <td>Automotive &amp; Sports</td>\n",
       "    </tr>\n",
       "    <tr>\n",
       "      <th>3</th>\n",
       "      <td>Automated Kiosk</td>\n",
       "      <td>Automotive &amp; Sports</td>\n",
       "    </tr>\n",
       "    <tr>\n",
       "      <th>4</th>\n",
       "      <td>Automotive</td>\n",
       "      <td>Automotive &amp; Sports</td>\n",
       "    </tr>\n",
       "  </tbody>\n",
       "</table>\n",
       "</div>"
      ],
      "text/plain": [
       "      category_list          main_sector\n",
       "0  Adventure Travel  Automotive & Sports\n",
       "1         Aerospace  Automotive & Sports\n",
       "2              Auto  Automotive & Sports\n",
       "3   Automated Kiosk  Automotive & Sports\n",
       "4        Automotive  Automotive & Sports"
      ]
     },
     "execution_count": 46,
     "metadata": {},
     "output_type": "execute_result"
    }
   ],
   "source": [
    "# convert wide df to long df using melt, and then retain the rows have value=1\n",
    "cat_mapping_df = cat_mapping_df.melt(id_vars='category_list', var_name='main_sector')\n",
    "cat_mapping_df = cat_mapping_df[cat_mapping_df.value == 1].reset_index(drop=True).drop('value',axis=1)\n",
    "cat_mapping_df.head()"
   ]
  },
  {
   "cell_type": "code",
   "execution_count": 47,
   "metadata": {},
   "outputs": [
    {
     "data": {
      "text/plain": [
       "Others                                     195\n",
       "Social, Finance, Analytics, Advertising    153\n",
       "Entertainment                               89\n",
       "News, Search and Messaging                  72\n",
       "Health                                      63\n",
       "Cleantech / Semiconductors                  53\n",
       "Manufacturing                               40\n",
       "Automotive & Sports                         22\n",
       "Name: main_sector, dtype: int64"
      ]
     },
     "execution_count": 47,
     "metadata": {},
     "output_type": "execute_result"
    }
   ],
   "source": [
    "cat_mapping_df['main_sector'].value_counts()"
   ]
  },
  {
   "cell_type": "markdown",
   "metadata": {},
   "source": [
    "Note that Blank column had no values, hence it was automatically removed from the main_sector column\n",
    "\n",
    "### Merge category values"
   ]
  },
  {
   "cell_type": "code",
   "execution_count": 48,
   "metadata": {},
   "outputs": [
    {
     "data": {
      "text/plain": [
       "biotechnology              9664\n",
       "software                   5885\n",
       "advertising                3922\n",
       "e-commerce                 3592\n",
       "analytics                  2938\n",
       "                           ... \n",
       "social business               1\n",
       "racing                        1\n",
       "mobile shopping               1\n",
       "mobile emergency&health       1\n",
       "organic                       1\n",
       "Name: primary_category, Length: 707, dtype: int64"
      ]
     },
     "execution_count": 48,
     "metadata": {},
     "output_type": "execute_result"
    }
   ],
   "source": [
    "# Retain the primary sector from the category_list column, and convert it to lowercase\n",
    "master_frame['primary_category'] = master_frame['category_list'].apply(lambda x: x.split('|')[0].lower())\n",
    "master_frame['primary_category'].value_counts()"
   ]
  },
  {
   "cell_type": "markdown",
   "metadata": {},
   "source": [
    "#### Before we merge the 2 dataframes, let us check for category values which are not present in the cat_mapping_df"
   ]
  },
  {
   "cell_type": "code",
   "execution_count": 49,
   "metadata": {},
   "outputs": [
    {
     "data": {
      "text/plain": [
       "85"
      ]
     },
     "execution_count": 49,
     "metadata": {},
     "output_type": "execute_result"
    }
   ],
   "source": [
    "# convert to lowercase to not miss values because of different casing\n",
    "cat_mapping_df['category_list'] = cat_mapping_df['category_list'].apply(lambda x: x.lower())\n",
    "len(set(master_frame['primary_category']) - set(cat_mapping_df['category_list']))"
   ]
  },
  {
   "cell_type": "markdown",
   "metadata": {},
   "source": [
    "##### We see that 85 primary categories are not present in the mapping dataframe.\n",
    "Let us check how many rows will be affected because of these 85 values"
   ]
  },
  {
   "cell_type": "code",
   "execution_count": 50,
   "metadata": {},
   "outputs": [
    {
     "data": {
      "text/plain": [
       "6355"
      ]
     },
     "execution_count": 50,
     "metadata": {},
     "output_type": "execute_result"
    }
   ],
   "source": [
    "len(master_frame[~master_frame['primary_category'].isin(cat_mapping_df['category_list'])])"
   ]
  },
  {
   "cell_type": "markdown",
   "metadata": {},
   "source": [
    "##### This is a huge number of rows, which we cannot afford to lose\n",
    "Let us analyze the difference in detail"
   ]
  },
  {
   "cell_type": "code",
   "execution_count": 51,
   "metadata": {},
   "outputs": [
    {
     "data": {
      "text/plain": [
       "9               analytics\n",
       "10              analytics\n",
       "11              analytics\n",
       "12              analytics\n",
       "60              analytics\n",
       "61              analytics\n",
       "148               finance\n",
       "150               finance\n",
       "190    financial services\n",
       "198             analytics\n",
       "Name: primary_category, dtype: object"
      ]
     },
     "execution_count": 51,
     "metadata": {},
     "output_type": "execute_result"
    }
   ],
   "source": [
    "# print values from master_frame that are not present in cat_mapping_df\n",
    "master_frame[~master_frame['primary_category'].isin(cat_mapping_df['category_list'])]['primary_category'].head(10)"
   ]
  },
  {
   "cell_type": "code",
   "execution_count": 52,
   "metadata": {},
   "outputs": [
    {
     "data": {
      "text/plain": [
       "44               energy ma0gement\n",
       "45                 energy storage\n",
       "61                  0notechnology\n",
       "62     0tural language processing\n",
       "63               0tural resources\n",
       "71                waste ma0gement\n",
       "98       digital rights ma0gement\n",
       "99                 digital sig0ge\n",
       "102              educatio0l games\n",
       "106               event ma0gement\n",
       "Name: category_list, dtype: object"
      ]
     },
     "execution_count": 52,
     "metadata": {},
     "output_type": "execute_result"
    }
   ],
   "source": [
    "# print values from cat_mapping_df that are not present in master_frame\n",
    "cat_mapping_df[~cat_mapping_df['category_list'].isin(master_frame['primary_category'])]['category_list'].head(10)"
   ]
  },
  {
   "cell_type": "markdown",
   "metadata": {},
   "source": [
    "### Observations\n",
    "We see a pattern of \"0\" present in the category names, instead of \"na\".\n",
    "Let us replace 0 back with na"
   ]
  },
  {
   "cell_type": "code",
   "execution_count": 53,
   "metadata": {},
   "outputs": [
    {
     "data": {
      "text/plain": [
       "44                 energy ma0gement\n",
       "61                    0notechnology\n",
       "62       0tural language processing\n",
       "63                 0tural resources\n",
       "71                  waste ma0gement\n",
       "98         digital rights ma0gement\n",
       "99                   digital sig0ge\n",
       "102                educatio0l games\n",
       "106                 event ma0gement\n",
       "165             alter0tive medicine\n",
       "174                         can0bis\n",
       "204            medical professio0ls\n",
       "213                  perso0l health\n",
       "226                       veteri0ry\n",
       "283                   chi0 internet\n",
       "289                 cloud ma0gement\n",
       "309                       jour0lism\n",
       "319                       0vigation\n",
       "329          professio0l networking\n",
       "350              document ma0gement\n",
       "360                  enterprise 2.0\n",
       "372                 fleet ma0gement\n",
       "382                       gover0nce\n",
       "403    intellectual asset ma0gement\n",
       "411                    it ma0gement\n",
       "414             knowledge ma0gement\n",
       "419                  lead ma0gement\n",
       "457                    perso0l data\n",
       "458                  perso0lization\n",
       "476            professio0l services\n",
       "477               project ma0gement\n",
       "506          supply chain ma0gement\n",
       "510                  task ma0gement\n",
       "540                        a0lytics\n",
       "550               big data a0lytics\n",
       "555               business a0lytics\n",
       "561                career ma0gement\n",
       "577               contact ma0gement\n",
       "614                          fi0nce\n",
       "615               fi0nce technology\n",
       "616              fi0ncial exchanges\n",
       "617               fi0ncial services\n",
       "624              identity ma0gement\n",
       "634            innovation ma0gement\n",
       "638            investment ma0gement\n",
       "645                 mobile a0lytics\n",
       "656                perso0l branding\n",
       "657                  perso0l fi0nce\n",
       "659             predictive a0lytics\n",
       "661                      promotio0l\n",
       "662              property ma0gement\n",
       "666                  risk ma0gement\n",
       "677          social media ma0gement\n",
       "Name: category_list, dtype: object"
      ]
     },
     "execution_count": 53,
     "metadata": {},
     "output_type": "execute_result"
    }
   ],
   "source": [
    "# print all the categories having 0 in them\n",
    "cat_mapping_df[cat_mapping_df['category_list'].str.contains('0')]['category_list']"
   ]
  },
  {
   "cell_type": "code",
   "execution_count": 54,
   "metadata": {},
   "outputs": [
    {
     "data": {
      "text/plain": [
       "60"
      ]
     },
     "execution_count": 54,
     "metadata": {},
     "output_type": "execute_result"
    }
   ],
   "source": [
    "# replace all 0s with na, except for enterprise 2.0\n",
    "cat_mapping_df['category_list'] = cat_mapping_df['category_list'].apply(lambda x: x if x=='enterprise 2.0' else x.replace('0','na'))\n",
    "\n",
    "# count no of rows in master_frame that do not have a category in the mapping file\n",
    "len(master_frame[~master_frame['primary_category'].isin(cat_mapping_df['category_list'])])"
   ]
  },
  {
   "cell_type": "code",
   "execution_count": 55,
   "metadata": {},
   "outputs": [
    {
     "data": {
      "text/html": [
       "<div>\n",
       "<style scoped>\n",
       "    .dataframe tbody tr th:only-of-type {\n",
       "        vertical-align: middle;\n",
       "    }\n",
       "\n",
       "    .dataframe tbody tr th {\n",
       "        vertical-align: top;\n",
       "    }\n",
       "\n",
       "    .dataframe thead th {\n",
       "        text-align: right;\n",
       "    }\n",
       "</style>\n",
       "<table border=\"1\" class=\"dataframe\">\n",
       "  <thead>\n",
       "    <tr style=\"text-align: right;\">\n",
       "      <th></th>\n",
       "      <th>category_list</th>\n",
       "      <th>country_code</th>\n",
       "      <th>company_permalink</th>\n",
       "      <th>funding_round_type</th>\n",
       "      <th>raised_amount_usd</th>\n",
       "      <th>primary_category</th>\n",
       "    </tr>\n",
       "  </thead>\n",
       "  <tbody>\n",
       "    <tr>\n",
       "      <th>2600</th>\n",
       "      <td>Cause Marketing|Charity</td>\n",
       "      <td>USA</td>\n",
       "      <td>/organization/adora-inc</td>\n",
       "      <td>seed</td>\n",
       "      <td>60000.00</td>\n",
       "      <td>cause marketing</td>\n",
       "    </tr>\n",
       "    <tr>\n",
       "      <th>6333</th>\n",
       "      <td>Real Estate Investors</td>\n",
       "      <td>USA</td>\n",
       "      <td>/organization/apollo-commercial-real-estate-fi...</td>\n",
       "      <td>debt_financing</td>\n",
       "      <td>50000000.00</td>\n",
       "      <td>real estate investors</td>\n",
       "    </tr>\n",
       "    <tr>\n",
       "      <th>8094</th>\n",
       "      <td>English-Speaking|Translation</td>\n",
       "      <td>SGP</td>\n",
       "      <td>/organization/asia-translate</td>\n",
       "      <td>venture</td>\n",
       "      <td>20000.00</td>\n",
       "      <td>english-speaking</td>\n",
       "    </tr>\n",
       "    <tr>\n",
       "      <th>12480</th>\n",
       "      <td>Toys</td>\n",
       "      <td>HKG</td>\n",
       "      <td>/organization/bioserie</td>\n",
       "      <td>seed</td>\n",
       "      <td>40000.00</td>\n",
       "      <td>toys</td>\n",
       "    </tr>\n",
       "    <tr>\n",
       "      <th>12481</th>\n",
       "      <td>Toys</td>\n",
       "      <td>HKG</td>\n",
       "      <td>/organization/bioserie</td>\n",
       "      <td>seed</td>\n",
       "      <td>100000.00</td>\n",
       "      <td>toys</td>\n",
       "    </tr>\n",
       "    <tr>\n",
       "      <th>12483</th>\n",
       "      <td>Toys</td>\n",
       "      <td>HKG</td>\n",
       "      <td>/organization/bioserie</td>\n",
       "      <td>seed</td>\n",
       "      <td>240000.00</td>\n",
       "      <td>toys</td>\n",
       "    </tr>\n",
       "    <tr>\n",
       "      <th>13764</th>\n",
       "      <td>Generation Y-Z|Photo Sharing|Social Media</td>\n",
       "      <td>USA</td>\n",
       "      <td>/organization/blurr-llc</td>\n",
       "      <td>seed</td>\n",
       "      <td>2370000.00</td>\n",
       "      <td>generation y-z</td>\n",
       "    </tr>\n",
       "    <tr>\n",
       "      <th>17604</th>\n",
       "      <td>Enterprise Hardware|Retail</td>\n",
       "      <td>RUS</td>\n",
       "      <td>/organization/cartpay-co-</td>\n",
       "      <td>angel</td>\n",
       "      <td>30000.00</td>\n",
       "      <td>enterprise hardware</td>\n",
       "    </tr>\n",
       "    <tr>\n",
       "      <th>17605</th>\n",
       "      <td>Enterprise Hardware|Retail</td>\n",
       "      <td>RUS</td>\n",
       "      <td>/organization/cartpay-co-</td>\n",
       "      <td>venture</td>\n",
       "      <td>50000.00</td>\n",
       "      <td>enterprise hardware</td>\n",
       "    </tr>\n",
       "    <tr>\n",
       "      <th>17610</th>\n",
       "      <td>Social Media Advertising|Social Media Marketing</td>\n",
       "      <td>USA</td>\n",
       "      <td>/organization/carusele</td>\n",
       "      <td>seed</td>\n",
       "      <td>250000.00</td>\n",
       "      <td>social media advertising</td>\n",
       "    </tr>\n",
       "    <tr>\n",
       "      <th>17611</th>\n",
       "      <td>Social Media Advertising|Social Media Marketing</td>\n",
       "      <td>USA</td>\n",
       "      <td>/organization/carusele</td>\n",
       "      <td>undisclosed</td>\n",
       "      <td>500000.00</td>\n",
       "      <td>social media advertising</td>\n",
       "    </tr>\n",
       "    <tr>\n",
       "      <th>20328</th>\n",
       "      <td>Natural Gas Uses|Service Providers|Services</td>\n",
       "      <td>USA</td>\n",
       "      <td>/organization/clean-vehicle-solutions</td>\n",
       "      <td>venture</td>\n",
       "      <td>125000.00</td>\n",
       "      <td>natural gas uses</td>\n",
       "    </tr>\n",
       "    <tr>\n",
       "      <th>20733</th>\n",
       "      <td>Internet Technology|Web Design|Web Development</td>\n",
       "      <td>USA</td>\n",
       "      <td>/organization/clientscape</td>\n",
       "      <td>angel</td>\n",
       "      <td>1000000.00</td>\n",
       "      <td>internet technology</td>\n",
       "    </tr>\n",
       "    <tr>\n",
       "      <th>21894</th>\n",
       "      <td>Nightlife</td>\n",
       "      <td>ISL</td>\n",
       "      <td>/organization/cokonnect</td>\n",
       "      <td>grant</td>\n",
       "      <td>115000.00</td>\n",
       "      <td>nightlife</td>\n",
       "    </tr>\n",
       "    <tr>\n",
       "      <th>21895</th>\n",
       "      <td>Nightlife</td>\n",
       "      <td>ISL</td>\n",
       "      <td>/organization/cokonnect</td>\n",
       "      <td>angel</td>\n",
       "      <td>100000.00</td>\n",
       "      <td>nightlife</td>\n",
       "    </tr>\n",
       "    <tr>\n",
       "      <th>22365</th>\n",
       "      <td>Adaptive Equipment|Construction|Landscaping</td>\n",
       "      <td>USA</td>\n",
       "      <td>/organization/compact-power-equipment-centers</td>\n",
       "      <td>debt_financing</td>\n",
       "      <td>18910000.00</td>\n",
       "      <td>adaptive equipment</td>\n",
       "    </tr>\n",
       "    <tr>\n",
       "      <th>28541</th>\n",
       "      <td>Adaptive Equipment|Innovation Management|Speec...</td>\n",
       "      <td>USA</td>\n",
       "      <td>/organization/dolores-speech-products</td>\n",
       "      <td>venture</td>\n",
       "      <td>250000.00</td>\n",
       "      <td>adaptive equipment</td>\n",
       "    </tr>\n",
       "    <tr>\n",
       "      <th>31640</th>\n",
       "      <td>Internet TV|Software|Television|Video|Video St...</td>\n",
       "      <td>USA</td>\n",
       "      <td>/organization/endavo-media-and-communications</td>\n",
       "      <td>debt_financing</td>\n",
       "      <td>779570.00</td>\n",
       "      <td>internet tv</td>\n",
       "    </tr>\n",
       "    <tr>\n",
       "      <th>32901</th>\n",
       "      <td>Skill Gaming</td>\n",
       "      <td>USA</td>\n",
       "      <td>/organization/esports-hero</td>\n",
       "      <td>angel</td>\n",
       "      <td>50000.00</td>\n",
       "      <td>skill gaming</td>\n",
       "    </tr>\n",
       "    <tr>\n",
       "      <th>35278</th>\n",
       "      <td>Racing</td>\n",
       "      <td>GBR</td>\n",
       "      <td>/organization/fia-formula-e</td>\n",
       "      <td>venture</td>\n",
       "      <td>68569234.00</td>\n",
       "      <td>racing</td>\n",
       "    </tr>\n",
       "    <tr>\n",
       "      <th>36012</th>\n",
       "      <td>Specialty Retail</td>\n",
       "      <td>USA</td>\n",
       "      <td>/organization/five-below</td>\n",
       "      <td>venture</td>\n",
       "      <td>194000000.00</td>\n",
       "      <td>specialty retail</td>\n",
       "    </tr>\n",
       "    <tr>\n",
       "      <th>37147</th>\n",
       "      <td>Swimming</td>\n",
       "      <td>CAN</td>\n",
       "      <td>/organization/formarum</td>\n",
       "      <td>equity_crowdfunding</td>\n",
       "      <td>104000.00</td>\n",
       "      <td>swimming</td>\n",
       "    </tr>\n",
       "    <tr>\n",
       "      <th>38460</th>\n",
       "      <td>Toys</td>\n",
       "      <td>USA</td>\n",
       "      <td>/organization/gamaby</td>\n",
       "      <td>equity_crowdfunding</td>\n",
       "      <td>825.00</td>\n",
       "      <td>toys</td>\n",
       "    </tr>\n",
       "    <tr>\n",
       "      <th>39477</th>\n",
       "      <td>Registrars|Services|Ticketing</td>\n",
       "      <td>GBR</td>\n",
       "      <td>/organization/get-invited</td>\n",
       "      <td>seed</td>\n",
       "      <td>283512.00</td>\n",
       "      <td>registrars</td>\n",
       "    </tr>\n",
       "    <tr>\n",
       "      <th>40423</th>\n",
       "      <td>Internet TV|Online Scheduling|Software|Television</td>\n",
       "      <td>ITA</td>\n",
       "      <td>/organization/glomera</td>\n",
       "      <td>seed</td>\n",
       "      <td>465240.00</td>\n",
       "      <td>internet tv</td>\n",
       "    </tr>\n",
       "    <tr>\n",
       "      <th>40877</th>\n",
       "      <td>Golf Equipment|Online Shopping|Sports</td>\n",
       "      <td>USA</td>\n",
       "      <td>/organization/golfsmith</td>\n",
       "      <td>debt_financing</td>\n",
       "      <td>125000000.00</td>\n",
       "      <td>golf equipment</td>\n",
       "    </tr>\n",
       "    <tr>\n",
       "      <th>43505</th>\n",
       "      <td>Biotechnology and Semiconductor|Diagnostics|He...</td>\n",
       "      <td>USA</td>\n",
       "      <td>/organization/healthtell</td>\n",
       "      <td>debt_financing</td>\n",
       "      <td>5196410.00</td>\n",
       "      <td>biotechnology and semiconductor</td>\n",
       "    </tr>\n",
       "    <tr>\n",
       "      <th>43506</th>\n",
       "      <td>Biotechnology and Semiconductor|Diagnostics|He...</td>\n",
       "      <td>USA</td>\n",
       "      <td>/organization/healthtell</td>\n",
       "      <td>venture</td>\n",
       "      <td>9486929.00</td>\n",
       "      <td>biotechnology and semiconductor</td>\n",
       "    </tr>\n",
       "    <tr>\n",
       "      <th>43507</th>\n",
       "      <td>Biotechnology and Semiconductor|Diagnostics|He...</td>\n",
       "      <td>USA</td>\n",
       "      <td>/organization/healthtell</td>\n",
       "      <td>debt_financing</td>\n",
       "      <td>4000000.00</td>\n",
       "      <td>biotechnology and semiconductor</td>\n",
       "    </tr>\n",
       "    <tr>\n",
       "      <th>44517</th>\n",
       "      <td>Vacation Rentals</td>\n",
       "      <td>DEU</td>\n",
       "      <td>/organization/holidu</td>\n",
       "      <td>seed</td>\n",
       "      <td>900000.00</td>\n",
       "      <td>vacation rentals</td>\n",
       "    </tr>\n",
       "    <tr>\n",
       "      <th>45152</th>\n",
       "      <td>Google Glass</td>\n",
       "      <td>USA</td>\n",
       "      <td>/organization/hudway</td>\n",
       "      <td>product_crowdfunding</td>\n",
       "      <td>525956.00</td>\n",
       "      <td>google glass</td>\n",
       "    </tr>\n",
       "    <tr>\n",
       "      <th>50572</th>\n",
       "      <td>Internet TV|Software|Television</td>\n",
       "      <td>USA</td>\n",
       "      <td>/organization/ivi</td>\n",
       "      <td>debt_financing</td>\n",
       "      <td>571927.00</td>\n",
       "      <td>internet tv</td>\n",
       "    </tr>\n",
       "    <tr>\n",
       "      <th>51816</th>\n",
       "      <td>Rapidly Expanding|Software|Usability|User Expe...</td>\n",
       "      <td>USA</td>\n",
       "      <td>/organization/justinmind</td>\n",
       "      <td>venture</td>\n",
       "      <td>862000.00</td>\n",
       "      <td>rapidly expanding</td>\n",
       "    </tr>\n",
       "    <tr>\n",
       "      <th>53323</th>\n",
       "      <td>Group Email|Group SMS|Social Media</td>\n",
       "      <td>USA</td>\n",
       "      <td>/organization/klique</td>\n",
       "      <td>debt_financing</td>\n",
       "      <td>2075000.00</td>\n",
       "      <td>group email</td>\n",
       "    </tr>\n",
       "    <tr>\n",
       "      <th>61396</th>\n",
       "      <td>Kinect|Software</td>\n",
       "      <td>DEU</td>\n",
       "      <td>/organization/metrilus</td>\n",
       "      <td>seed</td>\n",
       "      <td>139130.00</td>\n",
       "      <td>kinect</td>\n",
       "    </tr>\n",
       "    <tr>\n",
       "      <th>62526</th>\n",
       "      <td>Enterprise Hardware|Enterprise Software</td>\n",
       "      <td>IND</td>\n",
       "      <td>/organization/mistlayer</td>\n",
       "      <td>angel</td>\n",
       "      <td>60000.00</td>\n",
       "      <td>enterprise hardware</td>\n",
       "    </tr>\n",
       "    <tr>\n",
       "      <th>62527</th>\n",
       "      <td>Enterprise Hardware|Enterprise Software</td>\n",
       "      <td>IND</td>\n",
       "      <td>/organization/mistlayer</td>\n",
       "      <td>seed</td>\n",
       "      <td>2000.00</td>\n",
       "      <td>enterprise hardware</td>\n",
       "    </tr>\n",
       "    <tr>\n",
       "      <th>69971</th>\n",
       "      <td>Spas</td>\n",
       "      <td>USA</td>\n",
       "      <td>/organization/olavine-spa-salon</td>\n",
       "      <td>equity_crowdfunding</td>\n",
       "      <td>125000.00</td>\n",
       "      <td>spas</td>\n",
       "    </tr>\n",
       "    <tr>\n",
       "      <th>70078</th>\n",
       "      <td>Product Search</td>\n",
       "      <td>USA</td>\n",
       "      <td>/organization/omega-point-research</td>\n",
       "      <td>venture</td>\n",
       "      <td>3172815.00</td>\n",
       "      <td>product search</td>\n",
       "    </tr>\n",
       "    <tr>\n",
       "      <th>70270</th>\n",
       "      <td>Natural Gas Uses|Natural Resources|Utility Lan...</td>\n",
       "      <td>USA</td>\n",
       "      <td>/organization/onboard-dynamics-inc</td>\n",
       "      <td>seed</td>\n",
       "      <td>3400000.00</td>\n",
       "      <td>natural gas uses</td>\n",
       "    </tr>\n",
       "    <tr>\n",
       "      <th>76331</th>\n",
       "      <td>Kinect|Social Media</td>\n",
       "      <td>USA</td>\n",
       "      <td>/organization/playfitness</td>\n",
       "      <td>seed</td>\n",
       "      <td>49500.00</td>\n",
       "      <td>kinect</td>\n",
       "    </tr>\n",
       "    <tr>\n",
       "      <th>76890</th>\n",
       "      <td>Rapidly Expanding|Semiconductors</td>\n",
       "      <td>USA</td>\n",
       "      <td>/organization/polaris-design-systems</td>\n",
       "      <td>debt_financing</td>\n",
       "      <td>187000.00</td>\n",
       "      <td>rapidly expanding</td>\n",
       "    </tr>\n",
       "    <tr>\n",
       "      <th>77192</th>\n",
       "      <td>Sex Industry|SexTech</td>\n",
       "      <td>BLZ</td>\n",
       "      <td>/organization/pornhub</td>\n",
       "      <td>equity_crowdfunding</td>\n",
       "      <td>4299.00</td>\n",
       "      <td>sex industry</td>\n",
       "    </tr>\n",
       "    <tr>\n",
       "      <th>82516</th>\n",
       "      <td>Natural Gas Uses</td>\n",
       "      <td>USA</td>\n",
       "      <td>/organization/regency-energy-partners-llc</td>\n",
       "      <td>post_ipo_equity</td>\n",
       "      <td>400000000.00</td>\n",
       "      <td>natural gas uses</td>\n",
       "    </tr>\n",
       "    <tr>\n",
       "      <th>83751</th>\n",
       "      <td>Adaptive Equipment|Manufacturing</td>\n",
       "      <td>RUS</td>\n",
       "      <td>/organization/rezonver-llc</td>\n",
       "      <td>seed</td>\n",
       "      <td>43000.00</td>\n",
       "      <td>adaptive equipment</td>\n",
       "    </tr>\n",
       "    <tr>\n",
       "      <th>83752</th>\n",
       "      <td>Adaptive Equipment|Manufacturing</td>\n",
       "      <td>RUS</td>\n",
       "      <td>/organization/rezonver-llc</td>\n",
       "      <td>grant</td>\n",
       "      <td>50000.00</td>\n",
       "      <td>adaptive equipment</td>\n",
       "    </tr>\n",
       "    <tr>\n",
       "      <th>83753</th>\n",
       "      <td>Adaptive Equipment|Manufacturing</td>\n",
       "      <td>RUS</td>\n",
       "      <td>/organization/rezonver-llc</td>\n",
       "      <td>grant</td>\n",
       "      <td>14500.00</td>\n",
       "      <td>adaptive equipment</td>\n",
       "    </tr>\n",
       "    <tr>\n",
       "      <th>87657</th>\n",
       "      <td>GreenTech|Hardware|Home Automation|Internet of...</td>\n",
       "      <td>USA</td>\n",
       "      <td>/organization/sense-labs-inc-</td>\n",
       "      <td>venture</td>\n",
       "      <td>2499999.00</td>\n",
       "      <td>greentech</td>\n",
       "    </tr>\n",
       "    <tr>\n",
       "      <th>88384</th>\n",
       "      <td>Retirement</td>\n",
       "      <td>USA</td>\n",
       "      <td>/organization/shantiniketan-incorporated</td>\n",
       "      <td>venture</td>\n",
       "      <td>1100000.00</td>\n",
       "      <td>retirement</td>\n",
       "    </tr>\n",
       "    <tr>\n",
       "      <th>88385</th>\n",
       "      <td>Retirement</td>\n",
       "      <td>USA</td>\n",
       "      <td>/organization/shantiniketan-incorporated</td>\n",
       "      <td>venture</td>\n",
       "      <td>2000000.00</td>\n",
       "      <td>retirement</td>\n",
       "    </tr>\n",
       "    <tr>\n",
       "      <th>90021</th>\n",
       "      <td>Subscription Businesses|Ventures for Good</td>\n",
       "      <td>GBR</td>\n",
       "      <td>/organization/sincuru</td>\n",
       "      <td>seed</td>\n",
       "      <td>25000.00</td>\n",
       "      <td>subscription businesses</td>\n",
       "    </tr>\n",
       "    <tr>\n",
       "      <th>92789</th>\n",
       "      <td>Lingerie</td>\n",
       "      <td>USA</td>\n",
       "      <td>/organization/sos-by-bernard-buie</td>\n",
       "      <td>equity_crowdfunding</td>\n",
       "      <td>22000.00</td>\n",
       "      <td>lingerie</td>\n",
       "    </tr>\n",
       "    <tr>\n",
       "      <th>100330</th>\n",
       "      <td>Google Glass|Health Care|Medical|Software</td>\n",
       "      <td>USA</td>\n",
       "      <td>/organization/third-eye-health</td>\n",
       "      <td>debt_financing</td>\n",
       "      <td>50000.00</td>\n",
       "      <td>google glass</td>\n",
       "    </tr>\n",
       "    <tr>\n",
       "      <th>105270</th>\n",
       "      <td>Mobile Emergency&amp;Health|Startups</td>\n",
       "      <td>USA</td>\n",
       "      <td>/organization/us-emergency-registry</td>\n",
       "      <td>product_crowdfunding</td>\n",
       "      <td>1505.00</td>\n",
       "      <td>mobile emergency&amp;health</td>\n",
       "    </tr>\n",
       "    <tr>\n",
       "      <th>106150</th>\n",
       "      <td>Adaptive Equipment|Sporting Goods</td>\n",
       "      <td>USA</td>\n",
       "      <td>/organization/velocomp</td>\n",
       "      <td>venture</td>\n",
       "      <td>1420000.00</td>\n",
       "      <td>adaptive equipment</td>\n",
       "    </tr>\n",
       "    <tr>\n",
       "      <th>106173</th>\n",
       "      <td>Sponsorship|Sporting Goods|Sports</td>\n",
       "      <td>BMU</td>\n",
       "      <td>/organization/ven-racing</td>\n",
       "      <td>seed</td>\n",
       "      <td>50000.00</td>\n",
       "      <td>sponsorship</td>\n",
       "    </tr>\n",
       "    <tr>\n",
       "      <th>111607</th>\n",
       "      <td>Deep Information Technology|Enterprise Softwar...</td>\n",
       "      <td>USA</td>\n",
       "      <td>/organization/worldwinger</td>\n",
       "      <td>seed</td>\n",
       "      <td>18000.00</td>\n",
       "      <td>deep information technology</td>\n",
       "    </tr>\n",
       "    <tr>\n",
       "      <th>111608</th>\n",
       "      <td>Deep Information Technology|Enterprise Softwar...</td>\n",
       "      <td>USA</td>\n",
       "      <td>/organization/worldwinger</td>\n",
       "      <td>seed</td>\n",
       "      <td>25000.00</td>\n",
       "      <td>deep information technology</td>\n",
       "    </tr>\n",
       "    <tr>\n",
       "      <th>112792</th>\n",
       "      <td>Golf Equipment|Landscaping|Waste Management</td>\n",
       "      <td>USA</td>\n",
       "      <td>/organization/yellowstone-compact-commodities</td>\n",
       "      <td>seed</td>\n",
       "      <td>300000.00</td>\n",
       "      <td>golf equipment</td>\n",
       "    </tr>\n",
       "    <tr>\n",
       "      <th>112793</th>\n",
       "      <td>Golf Equipment|Landscaping|Waste Management</td>\n",
       "      <td>USA</td>\n",
       "      <td>/organization/yellowstone-compact-commodities</td>\n",
       "      <td>seed</td>\n",
       "      <td>30000.00</td>\n",
       "      <td>golf equipment</td>\n",
       "    </tr>\n",
       "  </tbody>\n",
       "</table>\n",
       "</div>"
      ],
      "text/plain": [
       "                                            category_list country_code  \\\n",
       "2600                              Cause Marketing|Charity          USA   \n",
       "6333                                Real Estate Investors          USA   \n",
       "8094                         English-Speaking|Translation          SGP   \n",
       "12480                                                Toys          HKG   \n",
       "12481                                                Toys          HKG   \n",
       "12483                                                Toys          HKG   \n",
       "13764           Generation Y-Z|Photo Sharing|Social Media          USA   \n",
       "17604                          Enterprise Hardware|Retail          RUS   \n",
       "17605                          Enterprise Hardware|Retail          RUS   \n",
       "17610     Social Media Advertising|Social Media Marketing          USA   \n",
       "17611     Social Media Advertising|Social Media Marketing          USA   \n",
       "20328         Natural Gas Uses|Service Providers|Services          USA   \n",
       "20733      Internet Technology|Web Design|Web Development          USA   \n",
       "21894                                           Nightlife          ISL   \n",
       "21895                                           Nightlife          ISL   \n",
       "22365         Adaptive Equipment|Construction|Landscaping          USA   \n",
       "28541   Adaptive Equipment|Innovation Management|Speec...          USA   \n",
       "31640   Internet TV|Software|Television|Video|Video St...          USA   \n",
       "32901                                        Skill Gaming          USA   \n",
       "35278                                              Racing          GBR   \n",
       "36012                                    Specialty Retail          USA   \n",
       "37147                                            Swimming          CAN   \n",
       "38460                                                Toys          USA   \n",
       "39477                       Registrars|Services|Ticketing          GBR   \n",
       "40423   Internet TV|Online Scheduling|Software|Television          ITA   \n",
       "40877               Golf Equipment|Online Shopping|Sports          USA   \n",
       "43505   Biotechnology and Semiconductor|Diagnostics|He...          USA   \n",
       "43506   Biotechnology and Semiconductor|Diagnostics|He...          USA   \n",
       "43507   Biotechnology and Semiconductor|Diagnostics|He...          USA   \n",
       "44517                                    Vacation Rentals          DEU   \n",
       "45152                                        Google Glass          USA   \n",
       "50572                     Internet TV|Software|Television          USA   \n",
       "51816   Rapidly Expanding|Software|Usability|User Expe...          USA   \n",
       "53323                  Group Email|Group SMS|Social Media          USA   \n",
       "61396                                     Kinect|Software          DEU   \n",
       "62526             Enterprise Hardware|Enterprise Software          IND   \n",
       "62527             Enterprise Hardware|Enterprise Software          IND   \n",
       "69971                                                Spas          USA   \n",
       "70078                                      Product Search          USA   \n",
       "70270   Natural Gas Uses|Natural Resources|Utility Lan...          USA   \n",
       "76331                                 Kinect|Social Media          USA   \n",
       "76890                    Rapidly Expanding|Semiconductors          USA   \n",
       "77192                                Sex Industry|SexTech          BLZ   \n",
       "82516                                    Natural Gas Uses          USA   \n",
       "83751                    Adaptive Equipment|Manufacturing          RUS   \n",
       "83752                    Adaptive Equipment|Manufacturing          RUS   \n",
       "83753                    Adaptive Equipment|Manufacturing          RUS   \n",
       "87657   GreenTech|Hardware|Home Automation|Internet of...          USA   \n",
       "88384                                          Retirement          USA   \n",
       "88385                                          Retirement          USA   \n",
       "90021           Subscription Businesses|Ventures for Good          GBR   \n",
       "92789                                            Lingerie          USA   \n",
       "100330          Google Glass|Health Care|Medical|Software          USA   \n",
       "105270                   Mobile Emergency&Health|Startups          USA   \n",
       "106150                  Adaptive Equipment|Sporting Goods          USA   \n",
       "106173                  Sponsorship|Sporting Goods|Sports          BMU   \n",
       "111607  Deep Information Technology|Enterprise Softwar...          USA   \n",
       "111608  Deep Information Technology|Enterprise Softwar...          USA   \n",
       "112792        Golf Equipment|Landscaping|Waste Management          USA   \n",
       "112793        Golf Equipment|Landscaping|Waste Management          USA   \n",
       "\n",
       "                                        company_permalink  \\\n",
       "2600                              /organization/adora-inc   \n",
       "6333    /organization/apollo-commercial-real-estate-fi...   \n",
       "8094                         /organization/asia-translate   \n",
       "12480                              /organization/bioserie   \n",
       "12481                              /organization/bioserie   \n",
       "12483                              /organization/bioserie   \n",
       "13764                             /organization/blurr-llc   \n",
       "17604                           /organization/cartpay-co-   \n",
       "17605                           /organization/cartpay-co-   \n",
       "17610                              /organization/carusele   \n",
       "17611                              /organization/carusele   \n",
       "20328               /organization/clean-vehicle-solutions   \n",
       "20733                           /organization/clientscape   \n",
       "21894                             /organization/cokonnect   \n",
       "21895                             /organization/cokonnect   \n",
       "22365       /organization/compact-power-equipment-centers   \n",
       "28541               /organization/dolores-speech-products   \n",
       "31640       /organization/endavo-media-and-communications   \n",
       "32901                          /organization/esports-hero   \n",
       "35278                         /organization/fia-formula-e   \n",
       "36012                            /organization/five-below   \n",
       "37147                              /organization/formarum   \n",
       "38460                                /organization/gamaby   \n",
       "39477                           /organization/get-invited   \n",
       "40423                               /organization/glomera   \n",
       "40877                             /organization/golfsmith   \n",
       "43505                            /organization/healthtell   \n",
       "43506                            /organization/healthtell   \n",
       "43507                            /organization/healthtell   \n",
       "44517                                /organization/holidu   \n",
       "45152                                /organization/hudway   \n",
       "50572                                   /organization/ivi   \n",
       "51816                            /organization/justinmind   \n",
       "53323                                /organization/klique   \n",
       "61396                              /organization/metrilus   \n",
       "62526                             /organization/mistlayer   \n",
       "62527                             /organization/mistlayer   \n",
       "69971                     /organization/olavine-spa-salon   \n",
       "70078                  /organization/omega-point-research   \n",
       "70270                  /organization/onboard-dynamics-inc   \n",
       "76331                           /organization/playfitness   \n",
       "76890                /organization/polaris-design-systems   \n",
       "77192                               /organization/pornhub   \n",
       "82516           /organization/regency-energy-partners-llc   \n",
       "83751                          /organization/rezonver-llc   \n",
       "83752                          /organization/rezonver-llc   \n",
       "83753                          /organization/rezonver-llc   \n",
       "87657                       /organization/sense-labs-inc-   \n",
       "88384            /organization/shantiniketan-incorporated   \n",
       "88385            /organization/shantiniketan-incorporated   \n",
       "90021                               /organization/sincuru   \n",
       "92789                   /organization/sos-by-bernard-buie   \n",
       "100330                     /organization/third-eye-health   \n",
       "105270                /organization/us-emergency-registry   \n",
       "106150                             /organization/velocomp   \n",
       "106173                           /organization/ven-racing   \n",
       "111607                          /organization/worldwinger   \n",
       "111608                          /organization/worldwinger   \n",
       "112792      /organization/yellowstone-compact-commodities   \n",
       "112793      /organization/yellowstone-compact-commodities   \n",
       "\n",
       "          funding_round_type  raised_amount_usd  \\\n",
       "2600                    seed           60000.00   \n",
       "6333          debt_financing        50000000.00   \n",
       "8094                 venture           20000.00   \n",
       "12480                   seed           40000.00   \n",
       "12481                   seed          100000.00   \n",
       "12483                   seed          240000.00   \n",
       "13764                   seed         2370000.00   \n",
       "17604                  angel           30000.00   \n",
       "17605                venture           50000.00   \n",
       "17610                   seed          250000.00   \n",
       "17611            undisclosed          500000.00   \n",
       "20328                venture          125000.00   \n",
       "20733                  angel         1000000.00   \n",
       "21894                  grant          115000.00   \n",
       "21895                  angel          100000.00   \n",
       "22365         debt_financing        18910000.00   \n",
       "28541                venture          250000.00   \n",
       "31640         debt_financing          779570.00   \n",
       "32901                  angel           50000.00   \n",
       "35278                venture        68569234.00   \n",
       "36012                venture       194000000.00   \n",
       "37147    equity_crowdfunding          104000.00   \n",
       "38460    equity_crowdfunding             825.00   \n",
       "39477                   seed          283512.00   \n",
       "40423                   seed          465240.00   \n",
       "40877         debt_financing       125000000.00   \n",
       "43505         debt_financing         5196410.00   \n",
       "43506                venture         9486929.00   \n",
       "43507         debt_financing         4000000.00   \n",
       "44517                   seed          900000.00   \n",
       "45152   product_crowdfunding          525956.00   \n",
       "50572         debt_financing          571927.00   \n",
       "51816                venture          862000.00   \n",
       "53323         debt_financing         2075000.00   \n",
       "61396                   seed          139130.00   \n",
       "62526                  angel           60000.00   \n",
       "62527                   seed            2000.00   \n",
       "69971    equity_crowdfunding          125000.00   \n",
       "70078                venture         3172815.00   \n",
       "70270                   seed         3400000.00   \n",
       "76331                   seed           49500.00   \n",
       "76890         debt_financing          187000.00   \n",
       "77192    equity_crowdfunding            4299.00   \n",
       "82516        post_ipo_equity       400000000.00   \n",
       "83751                   seed           43000.00   \n",
       "83752                  grant           50000.00   \n",
       "83753                  grant           14500.00   \n",
       "87657                venture         2499999.00   \n",
       "88384                venture         1100000.00   \n",
       "88385                venture         2000000.00   \n",
       "90021                   seed           25000.00   \n",
       "92789    equity_crowdfunding           22000.00   \n",
       "100330        debt_financing           50000.00   \n",
       "105270  product_crowdfunding            1505.00   \n",
       "106150               venture         1420000.00   \n",
       "106173                  seed           50000.00   \n",
       "111607                  seed           18000.00   \n",
       "111608                  seed           25000.00   \n",
       "112792                  seed          300000.00   \n",
       "112793                  seed           30000.00   \n",
       "\n",
       "                       primary_category  \n",
       "2600                    cause marketing  \n",
       "6333              real estate investors  \n",
       "8094                   english-speaking  \n",
       "12480                              toys  \n",
       "12481                              toys  \n",
       "12483                              toys  \n",
       "13764                    generation y-z  \n",
       "17604               enterprise hardware  \n",
       "17605               enterprise hardware  \n",
       "17610          social media advertising  \n",
       "17611          social media advertising  \n",
       "20328                  natural gas uses  \n",
       "20733               internet technology  \n",
       "21894                         nightlife  \n",
       "21895                         nightlife  \n",
       "22365                adaptive equipment  \n",
       "28541                adaptive equipment  \n",
       "31640                       internet tv  \n",
       "32901                      skill gaming  \n",
       "35278                            racing  \n",
       "36012                  specialty retail  \n",
       "37147                          swimming  \n",
       "38460                              toys  \n",
       "39477                        registrars  \n",
       "40423                       internet tv  \n",
       "40877                    golf equipment  \n",
       "43505   biotechnology and semiconductor  \n",
       "43506   biotechnology and semiconductor  \n",
       "43507   biotechnology and semiconductor  \n",
       "44517                  vacation rentals  \n",
       "45152                      google glass  \n",
       "50572                       internet tv  \n",
       "51816                 rapidly expanding  \n",
       "53323                       group email  \n",
       "61396                            kinect  \n",
       "62526               enterprise hardware  \n",
       "62527               enterprise hardware  \n",
       "69971                              spas  \n",
       "70078                    product search  \n",
       "70270                  natural gas uses  \n",
       "76331                            kinect  \n",
       "76890                 rapidly expanding  \n",
       "77192                      sex industry  \n",
       "82516                  natural gas uses  \n",
       "83751                adaptive equipment  \n",
       "83752                adaptive equipment  \n",
       "83753                adaptive equipment  \n",
       "87657                         greentech  \n",
       "88384                        retirement  \n",
       "88385                        retirement  \n",
       "90021           subscription businesses  \n",
       "92789                          lingerie  \n",
       "100330                     google glass  \n",
       "105270          mobile emergency&health  \n",
       "106150               adaptive equipment  \n",
       "106173                      sponsorship  \n",
       "111607      deep information technology  \n",
       "111608      deep information technology  \n",
       "112792                   golf equipment  \n",
       "112793                   golf equipment  "
      ]
     },
     "execution_count": 55,
     "metadata": {},
     "output_type": "execute_result"
    }
   ],
   "source": [
    "# print the rows in master_frame that do not have a category in the mapping file\n",
    "master_frame[~master_frame['primary_category'].isin(cat_mapping_df['category_list'])]"
   ]
  },
  {
   "cell_type": "markdown",
   "metadata": {},
   "source": [
    "#### Check other categories if not primary\n",
    "We still have some rows that do not have the primary sector name in the mapping file\n",
    "Let us check if additional category(2nd, 3rd, so on...) sectors exists. If yes, we can assign those as primary instead of losing the rows"
   ]
  },
  {
   "cell_type": "code",
   "execution_count": 56,
   "metadata": {},
   "outputs": [
    {
     "data": {
      "text/plain": [
       "20"
      ]
     },
     "execution_count": 56,
     "metadata": {},
     "output_type": "execute_result"
    }
   ],
   "source": [
    "# loop through all the categories and return the one that is present in the mapping dataframe.\n",
    "# If none of the categories are present, return the primary category\n",
    "unique_categories = set(cat_mapping_df['category_list'])\n",
    "\n",
    "def find_primary_category(x):\n",
    "    crr = x.lower().split('|')\n",
    "    for category in crr:\n",
    "        if category in unique_categories:\n",
    "            return category\n",
    "    return crr[0]\n",
    "\n",
    "master_frame['primary_category'] = master_frame['category_list'].apply(find_primary_category)\n",
    "\n",
    "# again count no of rows in master_frame that do not have a category in the mapping file\n",
    "len(master_frame[~master_frame['primary_category'].isin(cat_mapping_df['category_list'])])"
   ]
  },
  {
   "cell_type": "code",
   "execution_count": 57,
   "metadata": {},
   "outputs": [
    {
     "data": {
      "text/plain": [
       "{'energy storage',\n",
       " 'film distribution',\n",
       " 'flowers',\n",
       " 'google glass',\n",
       " 'lingerie',\n",
       " 'lotteries',\n",
       " 'low bid auctions',\n",
       " 'multi-level marketing',\n",
       " 'natural gas uses',\n",
       " 'nightlife',\n",
       " 'pervasive computing',\n",
       " 'plumbers',\n",
       " 'product search',\n",
       " 'racing',\n",
       " 'real estate investors',\n",
       " 'retirement',\n",
       " 'skill gaming',\n",
       " 'smart grid',\n",
       " 'social recruiting',\n",
       " 'spas',\n",
       " 'specialty retail',\n",
       " 'subscription businesses',\n",
       " 'swimming',\n",
       " 'taxis',\n",
       " 'toys',\n",
       " 'vacation rentals',\n",
       " 'veterinary',\n",
       " 'virtual workforces',\n",
       " 'women'}"
      ]
     },
     "execution_count": 57,
     "metadata": {},
     "output_type": "execute_result"
    }
   ],
   "source": [
    "# print the different category values that are present in 1 but not another dataframe\n",
    "set(master_frame['primary_category']).symmetric_difference(unique_categories)"
   ]
  },
  {
   "cell_type": "markdown",
   "metadata": {},
   "source": [
    "## Dropping rows\n",
    "By assigning other category rather than primary, we managed to save a lot of rows getting lost.\n",
    "\n",
    "Now before merging, we can remove the rows having primary category that are not present in the cat_mapping_df"
   ]
  },
  {
   "cell_type": "code",
   "execution_count": 58,
   "metadata": {},
   "outputs": [
    {
     "name": "stdout",
     "output_type": "stream",
     "text": [
      "<class 'pandas.core.frame.DataFrame'>\n",
      "Int64Index: 88146 entries, 0 to 114947\n",
      "Data columns (total 6 columns):\n",
      " #   Column              Non-Null Count  Dtype  \n",
      "---  ------              --------------  -----  \n",
      " 0   category_list       88146 non-null  object \n",
      " 1   country_code        88146 non-null  object \n",
      " 2   company_permalink   88146 non-null  object \n",
      " 3   funding_round_type  88146 non-null  object \n",
      " 4   raised_amount_usd   88146 non-null  float64\n",
      " 5   primary_category    88146 non-null  object \n",
      "dtypes: float64(1), object(5)\n",
      "memory usage: 4.7+ MB\n"
     ]
    }
   ],
   "source": [
    "# Remove rows that containing category values that are not present in the cat_mapping_df\n",
    "master_frame = master_frame[master_frame['primary_category'].isin(cat_mapping_df['category_list'])]\n",
    "master_frame.info()"
   ]
  },
  {
   "cell_type": "markdown",
   "metadata": {},
   "source": [
    "### Merge\n",
    "Now, we can do a left join to add main_sector column to our master_frame"
   ]
  },
  {
   "cell_type": "code",
   "execution_count": 59,
   "metadata": {},
   "outputs": [
    {
     "name": "stdout",
     "output_type": "stream",
     "text": [
      "<class 'pandas.core.frame.DataFrame'>\n",
      "Int64Index: 88146 entries, 0 to 88145\n",
      "Data columns (total 8 columns):\n",
      " #   Column              Non-Null Count  Dtype  \n",
      "---  ------              --------------  -----  \n",
      " 0   category_list_x     88146 non-null  object \n",
      " 1   country_code        88146 non-null  object \n",
      " 2   company_permalink   88146 non-null  object \n",
      " 3   funding_round_type  88146 non-null  object \n",
      " 4   raised_amount_usd   88146 non-null  float64\n",
      " 5   primary_category    88146 non-null  object \n",
      " 6   category_list_y     88146 non-null  object \n",
      " 7   main_sector         88146 non-null  object \n",
      "dtypes: float64(1), object(7)\n",
      "memory usage: 6.1+ MB\n"
     ]
    }
   ],
   "source": [
    "master_frame = pd.merge(master_frame, cat_mapping_df, how='left', left_on='primary_category', right_on='category_list')\n",
    "master_frame.info()"
   ]
  },
  {
   "cell_type": "code",
   "execution_count": 60,
   "metadata": {},
   "outputs": [
    {
     "name": "stdout",
     "output_type": "stream",
     "text": [
      "<class 'pandas.core.frame.DataFrame'>\n",
      "Int64Index: 88146 entries, 0 to 88145\n",
      "Data columns (total 5 columns):\n",
      " #   Column              Non-Null Count  Dtype  \n",
      "---  ------              --------------  -----  \n",
      " 0   country_code        88146 non-null  object \n",
      " 1   company_permalink   88146 non-null  object \n",
      " 2   funding_round_type  88146 non-null  object \n",
      " 3   raised_amount_usd   88146 non-null  float64\n",
      " 4   main_sector         88146 non-null  object \n",
      "dtypes: float64(1), object(4)\n",
      "memory usage: 4.0+ MB\n"
     ]
    }
   ],
   "source": [
    "# dropping columns we dont need\n",
    "master_frame = master_frame.drop(['category_list_x','category_list_y','primary_category'], axis=1)\n",
    "master_frame.info()"
   ]
  },
  {
   "cell_type": "code",
   "execution_count": 61,
   "metadata": {},
   "outputs": [
    {
     "data": {
      "text/plain": [
       "country_code          0\n",
       "company_permalink     0\n",
       "funding_round_type    0\n",
       "raised_amount_usd     0\n",
       "main_sector           0\n",
       "dtype: int64"
      ]
     },
     "execution_count": 61,
     "metadata": {},
     "output_type": "execute_result"
    }
   ],
   "source": [
    "# double check for missing values\n",
    "master_frame.isnull().sum()"
   ]
  },
  {
   "cell_type": "markdown",
   "metadata": {},
   "source": [
    "## Sector analysis for top 3 english speaking countries\n",
    "\n",
    "Creating separate dataframes of 3 countries with Funding type **Venture** and investments range of **5-15 M USD**"
   ]
  },
  {
   "cell_type": "code",
   "execution_count": 62,
   "metadata": {},
   "outputs": [
    {
     "name": "stdout",
     "output_type": "stream",
     "text": [
      "<class 'pandas.core.frame.DataFrame'>\n",
      "Int64Index: 12064 entries, 9 to 88135\n",
      "Data columns (total 5 columns):\n",
      " #   Column              Non-Null Count  Dtype  \n",
      "---  ------              --------------  -----  \n",
      " 0   country_code        12064 non-null  object \n",
      " 1   company_permalink   12064 non-null  object \n",
      " 2   funding_round_type  12064 non-null  object \n",
      " 3   raised_amount_usd   12064 non-null  float64\n",
      " 4   main_sector         12064 non-null  object \n",
      "dtypes: float64(1), object(4)\n",
      "memory usage: 565.5+ KB\n"
     ]
    }
   ],
   "source": [
    "D1 = master_frame[(master_frame['country_code']=='USA') & \n",
    "                  (master_frame['funding_round_type']=='venture') & \n",
    "                  (master_frame['raised_amount_usd']>=5000000) & \n",
    "                  (master_frame['raised_amount_usd']<=15000000) ]\n",
    "D1.info()"
   ]
  },
  {
   "cell_type": "code",
   "execution_count": 63,
   "metadata": {},
   "outputs": [
    {
     "name": "stdout",
     "output_type": "stream",
     "text": [
      "<class 'pandas.core.frame.DataFrame'>\n",
      "Int64Index: 621 entries, 288 to 88116\n",
      "Data columns (total 5 columns):\n",
      " #   Column              Non-Null Count  Dtype  \n",
      "---  ------              --------------  -----  \n",
      " 0   country_code        621 non-null    object \n",
      " 1   company_permalink   621 non-null    object \n",
      " 2   funding_round_type  621 non-null    object \n",
      " 3   raised_amount_usd   621 non-null    float64\n",
      " 4   main_sector         621 non-null    object \n",
      "dtypes: float64(1), object(4)\n",
      "memory usage: 29.1+ KB\n"
     ]
    }
   ],
   "source": [
    "D2 = master_frame[(master_frame['country_code']=='GBR') & \n",
    "                  (master_frame['funding_round_type']=='venture') & \n",
    "                  (master_frame['raised_amount_usd']>=5000000) & \n",
    "                  (master_frame['raised_amount_usd']<=15000000) ]\n",
    "D2.info()"
   ]
  },
  {
   "cell_type": "code",
   "execution_count": 64,
   "metadata": {},
   "outputs": [
    {
     "name": "stdout",
     "output_type": "stream",
     "text": [
      "<class 'pandas.core.frame.DataFrame'>\n",
      "Int64Index: 328 entries, 0 to 87917\n",
      "Data columns (total 5 columns):\n",
      " #   Column              Non-Null Count  Dtype  \n",
      "---  ------              --------------  -----  \n",
      " 0   country_code        328 non-null    object \n",
      " 1   company_permalink   328 non-null    object \n",
      " 2   funding_round_type  328 non-null    object \n",
      " 3   raised_amount_usd   328 non-null    float64\n",
      " 4   main_sector         328 non-null    object \n",
      "dtypes: float64(1), object(4)\n",
      "memory usage: 15.4+ KB\n"
     ]
    }
   ],
   "source": [
    "D3 = master_frame[(master_frame['country_code']=='IND') & \n",
    "                  (master_frame['funding_round_type']=='venture') & \n",
    "                  (master_frame['raised_amount_usd']>=5000000) & \n",
    "                  (master_frame['raised_amount_usd']<=15000000) ]\n",
    "D3.info()"
   ]
  },
  {
   "cell_type": "code",
   "execution_count": 65,
   "metadata": {},
   "outputs": [
    {
     "data": {
      "text/plain": [
       "(107766584223.0, 5379078691.0, 2949543602.0)"
      ]
     },
     "execution_count": 65,
     "metadata": {},
     "output_type": "execute_result"
    }
   ],
   "source": [
    "# Calculate the total amount of investments the three countries.\n",
    "D1['raised_amount_usd'].sum(), D2['raised_amount_usd'].sum(), D3['raised_amount_usd'].sum(), "
   ]
  },
  {
   "cell_type": "code",
   "execution_count": 66,
   "metadata": {
    "scrolled": true
   },
   "outputs": [
    {
     "data": {
      "text/plain": [
       "main_sector\n",
       "Others                                     2950\n",
       "Social, Finance, Analytics, Advertising    2714\n",
       "Cleantech / Semiconductors                 2350\n",
       "News, Search and Messaging                 1583\n",
       "Health                                      910\n",
       "Manufacturing                               799\n",
       "Entertainment                               591\n",
       "Automotive & Sports                         167\n",
       "Name: raised_amount_usd, dtype: int64"
      ]
     },
     "execution_count": 66,
     "metadata": {},
     "output_type": "execute_result"
    }
   ],
   "source": [
    "# Calculate the total number of investments in each sector for USA\n",
    "D1.groupby('main_sector')['raised_amount_usd'].size().sort_values(ascending=False)"
   ]
  },
  {
   "cell_type": "code",
   "execution_count": 67,
   "metadata": {},
   "outputs": [
    {
     "data": {
      "image/png": "[encoded data removed]",
      "text/plain": [
       "<Figure size 864x576 with 1 Axes>"
      ]
     },
     "metadata": {
      "needs_background": "light"
     },
     "output_type": "display_data"
    }
   ],
   "source": [
    "# plot for total amount invested in each sector\n",
    "plt.figure(figsize=[12,8])\n",
    "sns.barplot(data=D1, x='main_sector', y='raised_amount_usd', estimator=np.sum)\n",
    "plt.show()"
   ]
  },
  {
   "cell_type": "code",
   "execution_count": 68,
   "metadata": {},
   "outputs": [
    {
     "data": {
      "text/plain": [
       "main_sector\n",
       "Others                                     147\n",
       "Social, Finance, Analytics, Advertising    133\n",
       "Cleantech / Semiconductors                 130\n",
       "News, Search and Messaging                  73\n",
       "Entertainment                               56\n",
       "Manufacturing                               42\n",
       "Health                                      24\n",
       "Automotive & Sports                         16\n",
       "Name: raised_amount_usd, dtype: int64"
      ]
     },
     "execution_count": 68,
     "metadata": {},
     "output_type": "execute_result"
    }
   ],
   "source": [
    "# Calculate the total number of investments in each sector for GBR\n",
    "D2.groupby('main_sector')['raised_amount_usd'].size().sort_values(ascending=False)"
   ]
  },
  {
   "cell_type": "code",
   "execution_count": 69,
   "metadata": {},
   "outputs": [
    {
     "data": {
      "image/png": "[encoded data removed]",
      "text/plain": [
       "<Figure size 864x576 with 1 Axes>"
      ]
     },
     "metadata": {
      "needs_background": "light"
     },
     "output_type": "display_data"
    }
   ],
   "source": [
    "# plot for total amount invested in each sector\n",
    "plt.figure(figsize=[12,8])\n",
    "sns.barplot(data=D2, x='main_sector', y='raised_amount_usd', estimator=np.sum)\n",
    "plt.show()"
   ]
  },
  {
   "cell_type": "code",
   "execution_count": 70,
   "metadata": {},
   "outputs": [
    {
     "data": {
      "text/plain": [
       "main_sector\n",
       "Others                                     110\n",
       "Social, Finance, Analytics, Advertising     60\n",
       "News, Search and Messaging                  52\n",
       "Entertainment                               33\n",
       "Manufacturing                               21\n",
       "Cleantech / Semiconductors                  20\n",
       "Health                                      19\n",
       "Automotive & Sports                         13\n",
       "Name: raised_amount_usd, dtype: int64"
      ]
     },
     "execution_count": 70,
     "metadata": {},
     "output_type": "execute_result"
    }
   ],
   "source": [
    "# Calculate the total number of investments in each sector for IND\n",
    "D3.groupby('main_sector')['raised_amount_usd'].size().sort_values(ascending=False)"
   ]
  },
  {
   "cell_type": "code",
   "execution_count": 71,
   "metadata": {},
   "outputs": [
    {
     "data": {
      "image/png": "[encoded data removed]",
      "text/plain": [
       "<Figure size 864x576 with 1 Axes>"
      ]
     },
     "metadata": {
      "needs_background": "light"
     },
     "output_type": "display_data"
    }
   ],
   "source": [
    "# plot for total amount invested in each sector\n",
    "plt.figure(figsize=[12,8])\n",
    "sns.barplot(data=D3, x='main_sector', y='raised_amount_usd', estimator=np.sum)\n",
    "plt.show()"
   ]
  },
  {
   "cell_type": "code",
   "execution_count": 72,
   "metadata": {},
   "outputs": [
    {
     "data": {
      "text/plain": [
       "company_permalink\n",
       "/organization/virtustream           64300000.00\n",
       "/organization/capella               54968051.00\n",
       "/organization/airtight-networks     54201907.00\n",
       "/organization/decarta               52100000.00\n",
       "/organization/black-duck-software   51000000.00\n",
       "                                        ...    \n",
       "/organization/capton                 5000000.00\n",
       "/organization/capital-teas           5000000.00\n",
       "/organization/campus-quad            5000000.00\n",
       "/organization/campus-explorer        5000000.00\n",
       "/organization/netqos                 5000000.00\n",
       "Name: raised_amount_usd, Length: 2049, dtype: float64"
      ]
     },
     "execution_count": 72,
     "metadata": {},
     "output_type": "execute_result"
    }
   ],
   "source": [
    "# For the top sector count-wise, which company received the highest investment in USA?\n",
    "D1[D1['main_sector']=='Others'].groupby('company_permalink')['raised_amount_usd'].sum().sort_values(ascending=False)"
   ]
  },
  {
   "cell_type": "code",
   "execution_count": 73,
   "metadata": {},
   "outputs": [
    {
     "data": {
      "text/plain": [
       "company_permalink\n",
       "/organization/shotspotter        67933006.00\n",
       "/organization/demandbase         63000000.00\n",
       "/organization/intacct            61800000.00\n",
       "/organization/netbase            60600000.00\n",
       "/organization/lotame             59700000.00\n",
       "                                     ...    \n",
       "/organization/logi-analytics      5000000.00\n",
       "/organization/smartturn           5000000.00\n",
       "/organization/fractal-sciences    5000000.00\n",
       "/organization/amtec-lcc           5000000.00\n",
       "/organization/initiate-systems    5000000.00\n",
       "Name: raised_amount_usd, Length: 1847, dtype: float64"
      ]
     },
     "execution_count": 73,
     "metadata": {},
     "output_type": "execute_result"
    }
   ],
   "source": [
    "# For the second-best sector count-wise, which company received the highest investment in USA?\n",
    "D1[D1['main_sector']=='Social, Finance, Analytics, Advertising'].groupby('company_permalink')['raised_amount_usd'].sum().sort_values(ascending=False)"
   ]
  },
  {
   "cell_type": "code",
   "execution_count": 74,
   "metadata": {},
   "outputs": [
    {
     "data": {
      "text/plain": [
       "company_permalink\n",
       "/organization/electric-cloud            37000000.00\n",
       "/organization/sensage                   36250000.00\n",
       "/organization/enigmatic                 32500000.00\n",
       "/organization/silverrail-technologies   29000000.00\n",
       "/organization/opencloud                 27972766.00\n",
       "                                            ...    \n",
       "/organization/parcelgenie                5000000.00\n",
       "/organization/vector-watch               5000000.00\n",
       "/organization/thefilter                  5000000.00\n",
       "/organization/udex                       5000000.00\n",
       "/organization/bacula-systems             5000000.00\n",
       "Name: raised_amount_usd, Length: 120, dtype: float64"
      ]
     },
     "execution_count": 74,
     "metadata": {},
     "output_type": "execute_result"
    }
   ],
   "source": [
    "# For the top sector count-wise, which company received the highest investment in GBR?\n",
    "D2[D2['main_sector']=='Others'].groupby('company_permalink')['raised_amount_usd'].sum().sort_values(ascending=False)"
   ]
  },
  {
   "cell_type": "code",
   "execution_count": 75,
   "metadata": {},
   "outputs": [
    {
     "data": {
      "text/plain": [
       "company_permalink\n",
       "/organization/celltick-technologies   37500000.00\n",
       "/organization/mythings                34000000.00\n",
       "/organization/zopa                    32900000.00\n",
       "/organization/imagini                 28550000.00\n",
       "/organization/marketinvoice           25553007.00\n",
       "                                          ...    \n",
       "/organization/moo                      5000000.00\n",
       "/organization/rangespan                5000000.00\n",
       "/organization/tamoco                   5000000.00\n",
       "/organization/the-fizzback-group       5000000.00\n",
       "/organization/duedil                   5000000.00\n",
       "Name: raised_amount_usd, Length: 104, dtype: float64"
      ]
     },
     "execution_count": 75,
     "metadata": {},
     "output_type": "execute_result"
    }
   ],
   "source": [
    "# For the second-best sector count-wise, which company received the highest investment in GBR?\n",
    "D2[D2['main_sector']=='Social, Finance, Analytics, Advertising'].groupby('company_permalink')['raised_amount_usd'].sum().sort_values(ascending=False)"
   ]
  },
  {
   "cell_type": "code",
   "execution_count": 76,
   "metadata": {},
   "outputs": [
    {
     "data": {
      "text/plain": [
       "company_permalink\n",
       "/organization/firstcry-com          39000000.00\n",
       "/organization/myntra                38000000.00\n",
       "/organization/commonfloor           32900000.00\n",
       "/organization/pepperfry-com         28000000.00\n",
       "/organization/itzcash-card-ltd      25000000.00\n",
       "                                        ...    \n",
       "/organization/reznext                5000000.00\n",
       "/organization/voonik-com             5000000.00\n",
       "/organization/vedantu-innovations    5000000.00\n",
       "/organization/securens               5000000.00\n",
       "/organization/liases-foras           5000000.00\n",
       "Name: raised_amount_usd, Length: 88, dtype: float64"
      ]
     },
     "execution_count": 76,
     "metadata": {},
     "output_type": "execute_result"
    }
   ],
   "source": [
    "# For the top sector count-wise, which company received the highest investment in IND?\n",
    "D3[D3['main_sector']=='Others'].groupby('company_permalink')['raised_amount_usd'].sum().sort_values(ascending=False)"
   ]
  },
  {
   "cell_type": "code",
   "execution_count": 77,
   "metadata": {},
   "outputs": [
    {
     "data": {
      "text/plain": [
       "company_permalink\n",
       "/organization/manthan-systems                                50700000.00\n",
       "/organization/komli-media                                    28000000.00\n",
       "/organization/shopclues-com                                  25000000.00\n",
       "/organization/intarvo                                        21900000.00\n",
       "/organization/grameen-financial-services                     21556050.00\n",
       "/organization/bankbazaar                                     19000000.00\n",
       "/organization/microland                                      18300000.00\n",
       "/organization/eka-software-solutions                         16000000.00\n",
       "/organization/qyuki                                          15400000.00\n",
       "/organization/financial-information-network-operations-pvt   15000000.00\n",
       "/organization/travelguru                                     15000000.00\n",
       "/organization/shiram-credit                                  15000000.00\n",
       "/organization/apnaloan                                       15000000.00\n",
       "/organization/capital-float                                  13000000.00\n",
       "/organization/yepme-com                                      12700000.00\n",
       "/organization/coverfox-insurance-broking                     12000000.00\n",
       "/organization/funds-india                                    11000000.00\n",
       "/organization/emergent-ventures-india                        10040000.00\n",
       "/organization/loginext-solutions                             10000000.00\n",
       "/organization/lendingkart                                    10000000.00\n",
       "/organization/network18                                      10000000.00\n",
       "/organization/excellence4u                                   10000000.00\n",
       "/organization/unicommerce                                    10000000.00\n",
       "/organization/razorpay                                        9000000.00\n",
       "/organization/industrybuying                                  9000000.00\n",
       "/organization/vizury                                          9000000.00\n",
       "/organization/fusion-microfinance                             8300000.00\n",
       "/organization/shubham-housing-development-finance-company     8000000.00\n",
       "/organization/spire-technologies                              8000000.00\n",
       "/organization/prizm-payment-services                          8000000.00\n",
       "/organization/indiaideas                                      7500000.00\n",
       "/organization/epiance                                         7500000.00\n",
       "/organization/crmnext                                         7003500.00\n",
       "/organization/neogrowth                                       7000000.00\n",
       "/organization/minglebox                                       7000000.00\n",
       "/organization/a-little-world                                  6410000.00\n",
       "/organization/daksh-infosoft                                  6000000.00\n",
       "/organization/furlenco                                        6000000.00\n",
       "/organization/agile                                           5740000.00\n",
       "/organization/ebs-worldwide-services                          5500000.00\n",
       "/organization/eko-india-financial-services                    5500000.00\n",
       "/organization/amagi-media-labs                                5500000.00\n",
       "/organization/innoviti                                        5000000.00\n",
       "/organization/authorstream                                    5000000.00\n",
       "/organization/policybazaar                                    5000000.00\n",
       "/organization/annapurna-microfinace                           5000000.00\n",
       "/organization/akosha                                          5000000.00\n",
       "/organization/ideacts-innovations                             5000000.00\n",
       "Name: raised_amount_usd, dtype: float64"
      ]
     },
     "execution_count": 77,
     "metadata": {},
     "output_type": "execute_result"
    }
   ],
   "source": [
    "# For the second-best sector count-wise, which company received the highest investment in IND?\n",
    "D3[D3['main_sector']=='Social, Finance, Analytics, Advertising'].groupby('company_permalink')['raised_amount_usd'].sum().sort_values(ascending=False)"
   ]
  },
  {
   "cell_type": "code",
   "execution_count": 78,
   "metadata": {},
   "outputs": [],
   "source": [
    "# Keep data of only the top 3 sectors in each countries Dataframe\n",
    "D1 = D1[D1['main_sector'].isin(['Others','Social, Finance, Analytics, Advertising','Cleantech / Semiconductors'])]\n",
    "D2 = D2[D2['main_sector'].isin(['Others','Social, Finance, Analytics, Advertising','Cleantech / Semiconductors'])]\n",
    "D3 = D3[D3['main_sector'].isin(['Others','Social, Finance, Analytics, Advertising','News, Search and Messaging'])]"
   ]
  },
  {
   "cell_type": "code",
   "execution_count": 79,
   "metadata": {},
   "outputs": [],
   "source": [
    "# Merge all 3 countries dataframe\n",
    "top_3_country_sector = D1.append(D2).append(D3)"
   ]
  },
  {
   "cell_type": "code",
   "execution_count": 81,
   "metadata": {},
   "outputs": [
    {
     "data": {
      "image/png": "[encoded data removed]",
      "text/plain": [
       "<Figure size 864x576 with 1 Axes>"
      ]
     },
     "metadata": {
      "needs_background": "light"
     },
     "output_type": "display_data"
    }
   ],
   "source": [
    "# plot the spread of raised_amount_usd values in all the 3 countries\n",
    "plt.figure(figsize=[12,8])\n",
    "sns.boxplot(x='country_code', y='raised_amount_usd', data=top_3_country_sector)\n",
    "plt.show()"
   ]
  },
  {
   "cell_type": "code",
   "execution_count": 82,
   "metadata": {},
   "outputs": [
    {
     "data": {
      "image/png": "[encoded data removed]",
      "text/plain": [
       "<Figure size 720x504 with 1 Axes>"
      ]
     },
     "metadata": {
      "needs_background": "light"
     },
     "output_type": "display_data"
    }
   ],
   "source": [
    "# plot the percentage distribution of total investment amount in all the 3 countries\n",
    "top_3_pt = pd.pivot_table(data=top_3_country_sector, values='raised_amount_usd', index='country_code', \n",
    "               columns='main_sector', aggfunc='sum').apply(lambda x: x/x.sum(), axis=1)\n",
    "top_3_pt.plot(kind='bar', stacked='True', figsize=[10,7])\n",
    "plt.show()"
   ]
  },
  {
   "cell_type": "code",
   "execution_count": 83,
   "metadata": {},
   "outputs": [
    {
     "data": {
      "image/png": "[encoded data removed]",
      "text/plain": [
       "<Figure size 864x576 with 1 Axes>"
      ]
     },
     "metadata": {
      "needs_background": "light"
     },
     "output_type": "display_data"
    }
   ],
   "source": [
    "# create a bar plot showing number of investments in the top3 country for top3 sectors\n",
    "plt.figure(figsize=[12,8])\n",
    "sns.barplot(data=top_3_country_sector, x='country_code', y='raised_amount_usd', hue='main_sector', estimator=np.size)\n",
    "plt.yscale('log')"
   ]
  },
  {
   "cell_type": "code",
   "execution_count": null,
   "metadata": {},
   "outputs": [],
   "source": []
  }
 ],
 "metadata": {
  "kernelspec": {
   "display_name": "Python 3",
   "language": "python",
   "name": "python3"
  },
  "language_info": {
   "codemirror_mode": {
    "name": "ipython",
    "version": 3
   },
   "file_extension": ".py",
   "mimetype": "text/x-python",
   "name": "python",
   "nbconvert_exporter": "python",
   "pygments_lexer": "ipython3",
   "version": "3.9.1"
  }
 },
 "nbformat": 4,
 "nbformat_minor": 4
}
